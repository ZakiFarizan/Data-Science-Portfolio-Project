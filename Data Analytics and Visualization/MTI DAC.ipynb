{
 "cells": [
  {
   "cell_type": "markdown",
   "id": "8c93ce0b",
   "metadata": {},
   "source": [
    "# DAC MINI COMPETITION\n",
    "## By Kuya Mekarwangi Team\n",
    "- Muhammad Khairul Rijal\n",
    "- Andika Ary Saputra\n",
    "- Zaki Anwar Farizan"
   ]
  },
  {
   "cell_type": "markdown",
   "id": "d77bdc2a",
   "metadata": {},
   "source": [
    "# 1. Import Library"
   ]
  },
  {
   "cell_type": "code",
   "execution_count": 3,
   "id": "f95c639d",
   "metadata": {},
   "outputs": [],
   "source": [
    "import pandas as pd\n",
    "import numpy as np\n",
    "import matplotlib.pyplot as plt\n",
    "import seaborn as sns\n",
    "\n",
    "import warnings\n",
    "warnings.filterwarnings('ignore')"
   ]
  },
  {
   "cell_type": "markdown",
   "id": "17fffbad",
   "metadata": {},
   "source": [
    "# 2. Data Understanding"
   ]
  },
  {
   "cell_type": "code",
   "execution_count": 4,
   "id": "9ac422ed",
   "metadata": {},
   "outputs": [
    {
     "data": {
      "text/html": [
       "<div>\n",
       "<style scoped>\n",
       "    .dataframe tbody tr th:only-of-type {\n",
       "        vertical-align: middle;\n",
       "    }\n",
       "\n",
       "    .dataframe tbody tr th {\n",
       "        vertical-align: top;\n",
       "    }\n",
       "\n",
       "    .dataframe thead th {\n",
       "        text-align: right;\n",
       "    }\n",
       "</style>\n",
       "<table border=\"1\" class=\"dataframe\">\n",
       "  <thead>\n",
       "    <tr style=\"text-align: right;\">\n",
       "      <th></th>\n",
       "      <th>employee_id</th>\n",
       "      <th>umur</th>\n",
       "      <th>jenis_kelamin</th>\n",
       "      <th>IPK</th>\n",
       "      <th>level</th>\n",
       "      <th>tahun_lulus</th>\n",
       "      <th>status_perkawinan</th>\n",
       "      <th>divisi</th>\n",
       "      <th>rerata_jam_bulanan</th>\n",
       "      <th>tingkat_kepuasan_bekerja</th>\n",
       "      <th>nilai_evaluasi_terakhir</th>\n",
       "      <th>jumlah_proyek_yang_dikerjakan</th>\n",
       "      <th>lama_di_perusahaan</th>\n",
       "      <th>kecelakaan_kerja</th>\n",
       "      <th>promosi_5thn_lalu</th>\n",
       "      <th>tingkat_gaji</th>\n",
       "      <th>resign</th>\n",
       "    </tr>\n",
       "  </thead>\n",
       "  <tbody>\n",
       "    <tr>\n",
       "      <th>0</th>\n",
       "      <td>10000</td>\n",
       "      <td>NaN</td>\n",
       "      <td>Laki-laki</td>\n",
       "      <td>1.947303</td>\n",
       "      <td>Junior</td>\n",
       "      <td>NaN</td>\n",
       "      <td>Sudah Menikah</td>\n",
       "      <td>management</td>\n",
       "      <td>210.0</td>\n",
       "      <td>0.82</td>\n",
       "      <td>0.419035</td>\n",
       "      <td>3</td>\n",
       "      <td>3 Years</td>\n",
       "      <td>belum pernah</td>\n",
       "      <td>belum</td>\n",
       "      <td>sedang</td>\n",
       "      <td>0</td>\n",
       "    </tr>\n",
       "    <tr>\n",
       "      <th>1</th>\n",
       "      <td>10001</td>\n",
       "      <td>NaN</td>\n",
       "      <td>Laki-laki</td>\n",
       "      <td>3.218346</td>\n",
       "      <td>Full-Time</td>\n",
       "      <td>NaN</td>\n",
       "      <td>Belum Menikah</td>\n",
       "      <td>sales</td>\n",
       "      <td>189.0</td>\n",
       "      <td>0.76</td>\n",
       "      <td>0.558254</td>\n",
       "      <td>3</td>\n",
       "      <td>24 Months</td>\n",
       "      <td>belum pernah</td>\n",
       "      <td>belum</td>\n",
       "      <td>rendah</td>\n",
       "      <td>0</td>\n",
       "    </tr>\n",
       "    <tr>\n",
       "      <th>2</th>\n",
       "      <td>10002</td>\n",
       "      <td>NaN</td>\n",
       "      <td>Laki-laki</td>\n",
       "      <td>2.117364</td>\n",
       "      <td>Senior</td>\n",
       "      <td>NaN</td>\n",
       "      <td>Sudah Menikah</td>\n",
       "      <td>management</td>\n",
       "      <td>NaN</td>\n",
       "      <td>0.81</td>\n",
       "      <td>0.580364</td>\n",
       "      <td>5</td>\n",
       "      <td>2 Years</td>\n",
       "      <td>pernah</td>\n",
       "      <td>belum</td>\n",
       "      <td>tinggi</td>\n",
       "      <td>0</td>\n",
       "    </tr>\n",
       "    <tr>\n",
       "      <th>3</th>\n",
       "      <td>10003</td>\n",
       "      <td>NaN</td>\n",
       "      <td>Laki-laki</td>\n",
       "      <td>3.178748</td>\n",
       "      <td>Full-Time</td>\n",
       "      <td>NaN</td>\n",
       "      <td>Belum Menikah</td>\n",
       "      <td>sales</td>\n",
       "      <td>121.0</td>\n",
       "      <td>0.84</td>\n",
       "      <td>0.446109</td>\n",
       "      <td>3</td>\n",
       "      <td>36 Months</td>\n",
       "      <td>pernah</td>\n",
       "      <td>belum</td>\n",
       "      <td>rendah</td>\n",
       "      <td>0</td>\n",
       "    </tr>\n",
       "    <tr>\n",
       "      <th>4</th>\n",
       "      <td>10004</td>\n",
       "      <td>34.0</td>\n",
       "      <td>Laki-laki</td>\n",
       "      <td>2.680535</td>\n",
       "      <td>Part-Time</td>\n",
       "      <td>2008.0</td>\n",
       "      <td>Belum Menikah</td>\n",
       "      <td>technical</td>\n",
       "      <td>229.0</td>\n",
       "      <td>0.48</td>\n",
       "      <td>NaN</td>\n",
       "      <td>3</td>\n",
       "      <td>3 Years</td>\n",
       "      <td>belum pernah</td>\n",
       "      <td>belum</td>\n",
       "      <td>rendah</td>\n",
       "      <td>0</td>\n",
       "    </tr>\n",
       "  </tbody>\n",
       "</table>\n",
       "</div>"
      ],
      "text/plain": [
       "   employee_id  umur jenis_kelamin       IPK      level  tahun_lulus  \\\n",
       "0        10000   NaN     Laki-laki  1.947303     Junior          NaN   \n",
       "1        10001   NaN     Laki-laki  3.218346  Full-Time          NaN   \n",
       "2        10002   NaN     Laki-laki  2.117364     Senior          NaN   \n",
       "3        10003   NaN     Laki-laki  3.178748  Full-Time          NaN   \n",
       "4        10004  34.0     Laki-laki  2.680535  Part-Time       2008.0   \n",
       "\n",
       "  status_perkawinan      divisi  rerata_jam_bulanan  tingkat_kepuasan_bekerja  \\\n",
       "0     Sudah Menikah  management               210.0                      0.82   \n",
       "1     Belum Menikah       sales               189.0                      0.76   \n",
       "2     Sudah Menikah  management                 NaN                      0.81   \n",
       "3     Belum Menikah       sales               121.0                      0.84   \n",
       "4     Belum Menikah   technical               229.0                      0.48   \n",
       "\n",
       "   nilai_evaluasi_terakhir  jumlah_proyek_yang_dikerjakan lama_di_perusahaan  \\\n",
       "0                 0.419035                              3            3 Years   \n",
       "1                 0.558254                              3          24 Months   \n",
       "2                 0.580364                              5            2 Years   \n",
       "3                 0.446109                              3          36 Months   \n",
       "4                      NaN                              3            3 Years   \n",
       "\n",
       "  kecelakaan_kerja promosi_5thn_lalu tingkat_gaji  resign  \n",
       "0     belum pernah             belum       sedang       0  \n",
       "1     belum pernah             belum       rendah       0  \n",
       "2           pernah             belum       tinggi       0  \n",
       "3           pernah             belum       rendah       0  \n",
       "4     belum pernah             belum       rendah       0  "
      ]
     },
     "execution_count": 4,
     "metadata": {},
     "output_type": "execute_result"
    }
   ],
   "source": [
    "df = pd.read_csv('../Data/train.csv')\n",
    "df.head()"
   ]
  },
  {
   "cell_type": "code",
   "execution_count": 5,
   "id": "00c4d650",
   "metadata": {},
   "outputs": [
    {
     "data": {
      "text/plain": [
       "(10049, 17)"
      ]
     },
     "execution_count": 5,
     "metadata": {},
     "output_type": "execute_result"
    }
   ],
   "source": [
    "df.shape"
   ]
  },
  {
   "cell_type": "code",
   "execution_count": 6,
   "id": "118b4f0f",
   "metadata": {},
   "outputs": [
    {
     "data": {
      "text/plain": [
       "employee_id                        int64\n",
       "umur                             float64\n",
       "jenis_kelamin                     object\n",
       "IPK                              float64\n",
       "level                             object\n",
       "tahun_lulus                      float64\n",
       "status_perkawinan                 object\n",
       "divisi                            object\n",
       "rerata_jam_bulanan               float64\n",
       "tingkat_kepuasan_bekerja         float64\n",
       "nilai_evaluasi_terakhir          float64\n",
       "jumlah_proyek_yang_dikerjakan      int64\n",
       "lama_di_perusahaan                object\n",
       "kecelakaan_kerja                  object\n",
       "promosi_5thn_lalu                 object\n",
       "tingkat_gaji                      object\n",
       "resign                             int64\n",
       "dtype: object"
      ]
     },
     "execution_count": 6,
     "metadata": {},
     "output_type": "execute_result"
    }
   ],
   "source": [
    "df.dtypes"
   ]
  },
  {
   "cell_type": "code",
   "execution_count": 7,
   "id": "fc60b36c",
   "metadata": {},
   "outputs": [
    {
     "data": {
      "text/html": [
       "<div>\n",
       "<style scoped>\n",
       "    .dataframe tbody tr th:only-of-type {\n",
       "        vertical-align: middle;\n",
       "    }\n",
       "\n",
       "    .dataframe tbody tr th {\n",
       "        vertical-align: top;\n",
       "    }\n",
       "\n",
       "    .dataframe thead th {\n",
       "        text-align: right;\n",
       "    }\n",
       "</style>\n",
       "<table border=\"1\" class=\"dataframe\">\n",
       "  <thead>\n",
       "    <tr style=\"text-align: right;\">\n",
       "      <th></th>\n",
       "      <th>employee_id</th>\n",
       "      <th>umur</th>\n",
       "      <th>jenis_kelamin</th>\n",
       "      <th>IPK</th>\n",
       "      <th>level</th>\n",
       "      <th>tahun_lulus</th>\n",
       "      <th>status_perkawinan</th>\n",
       "      <th>divisi</th>\n",
       "      <th>rerata_jam_bulanan</th>\n",
       "      <th>tingkat_kepuasan_bekerja</th>\n",
       "      <th>nilai_evaluasi_terakhir</th>\n",
       "      <th>jumlah_proyek_yang_dikerjakan</th>\n",
       "      <th>lama_di_perusahaan</th>\n",
       "      <th>kecelakaan_kerja</th>\n",
       "      <th>promosi_5thn_lalu</th>\n",
       "      <th>tingkat_gaji</th>\n",
       "      <th>resign</th>\n",
       "    </tr>\n",
       "  </thead>\n",
       "  <tbody>\n",
       "    <tr>\n",
       "      <th>count</th>\n",
       "      <td>10049.000000</td>\n",
       "      <td>2338.000000</td>\n",
       "      <td>10049</td>\n",
       "      <td>10049.000000</td>\n",
       "      <td>10049</td>\n",
       "      <td>2338.000000</td>\n",
       "      <td>10049</td>\n",
       "      <td>10049</td>\n",
       "      <td>8700.000000</td>\n",
       "      <td>9253.000000</td>\n",
       "      <td>8499.000000</td>\n",
       "      <td>10049.000000</td>\n",
       "      <td>10049</td>\n",
       "      <td>10049</td>\n",
       "      <td>10049</td>\n",
       "      <td>10049</td>\n",
       "      <td>10049.000000</td>\n",
       "    </tr>\n",
       "    <tr>\n",
       "      <th>unique</th>\n",
       "      <td>NaN</td>\n",
       "      <td>NaN</td>\n",
       "      <td>2</td>\n",
       "      <td>NaN</td>\n",
       "      <td>6</td>\n",
       "      <td>NaN</td>\n",
       "      <td>2</td>\n",
       "      <td>10</td>\n",
       "      <td>NaN</td>\n",
       "      <td>NaN</td>\n",
       "      <td>NaN</td>\n",
       "      <td>NaN</td>\n",
       "      <td>16</td>\n",
       "      <td>2</td>\n",
       "      <td>2</td>\n",
       "      <td>3</td>\n",
       "      <td>NaN</td>\n",
       "    </tr>\n",
       "    <tr>\n",
       "      <th>top</th>\n",
       "      <td>NaN</td>\n",
       "      <td>NaN</td>\n",
       "      <td>Laki-laki</td>\n",
       "      <td>NaN</td>\n",
       "      <td>Full-Time</td>\n",
       "      <td>NaN</td>\n",
       "      <td>Sudah Menikah</td>\n",
       "      <td>sales</td>\n",
       "      <td>NaN</td>\n",
       "      <td>NaN</td>\n",
       "      <td>NaN</td>\n",
       "      <td>NaN</td>\n",
       "      <td>3 Years</td>\n",
       "      <td>belum pernah</td>\n",
       "      <td>belum</td>\n",
       "      <td>rendah</td>\n",
       "      <td>NaN</td>\n",
       "    </tr>\n",
       "    <tr>\n",
       "      <th>freq</th>\n",
       "      <td>NaN</td>\n",
       "      <td>NaN</td>\n",
       "      <td>8672</td>\n",
       "      <td>NaN</td>\n",
       "      <td>3488</td>\n",
       "      <td>NaN</td>\n",
       "      <td>6140</td>\n",
       "      <td>2795</td>\n",
       "      <td>NaN</td>\n",
       "      <td>NaN</td>\n",
       "      <td>NaN</td>\n",
       "      <td>NaN</td>\n",
       "      <td>2710</td>\n",
       "      <td>8611</td>\n",
       "      <td>9831</td>\n",
       "      <td>4918</td>\n",
       "      <td>NaN</td>\n",
       "    </tr>\n",
       "    <tr>\n",
       "      <th>mean</th>\n",
       "      <td>15024.000000</td>\n",
       "      <td>33.499572</td>\n",
       "      <td>NaN</td>\n",
       "      <td>2.396161</td>\n",
       "      <td>NaN</td>\n",
       "      <td>2008.151839</td>\n",
       "      <td>NaN</td>\n",
       "      <td>NaN</td>\n",
       "      <td>202.981379</td>\n",
       "      <td>0.611906</td>\n",
       "      <td>0.455847</td>\n",
       "      <td>3.797691</td>\n",
       "      <td>NaN</td>\n",
       "      <td>NaN</td>\n",
       "      <td>NaN</td>\n",
       "      <td>NaN</td>\n",
       "      <td>0.238034</td>\n",
       "    </tr>\n",
       "    <tr>\n",
       "      <th>std</th>\n",
       "      <td>2901.040762</td>\n",
       "      <td>7.951891</td>\n",
       "      <td>NaN</td>\n",
       "      <td>0.868485</td>\n",
       "      <td>NaN</td>\n",
       "      <td>7.988843</td>\n",
       "      <td>NaN</td>\n",
       "      <td>NaN</td>\n",
       "      <td>56.708467</td>\n",
       "      <td>0.247945</td>\n",
       "      <td>0.113812</td>\n",
       "      <td>1.227331</td>\n",
       "      <td>NaN</td>\n",
       "      <td>NaN</td>\n",
       "      <td>NaN</td>\n",
       "      <td>NaN</td>\n",
       "      <td>0.425901</td>\n",
       "    </tr>\n",
       "    <tr>\n",
       "      <th>min</th>\n",
       "      <td>10000.000000</td>\n",
       "      <td>20.000000</td>\n",
       "      <td>NaN</td>\n",
       "      <td>0.003057</td>\n",
       "      <td>NaN</td>\n",
       "      <td>1986.000000</td>\n",
       "      <td>NaN</td>\n",
       "      <td>NaN</td>\n",
       "      <td>96.000000</td>\n",
       "      <td>0.090000</td>\n",
       "      <td>0.000000</td>\n",
       "      <td>2.000000</td>\n",
       "      <td>NaN</td>\n",
       "      <td>NaN</td>\n",
       "      <td>NaN</td>\n",
       "      <td>NaN</td>\n",
       "      <td>0.000000</td>\n",
       "    </tr>\n",
       "    <tr>\n",
       "      <th>25%</th>\n",
       "      <td>12512.000000</td>\n",
       "      <td>27.000000</td>\n",
       "      <td>NaN</td>\n",
       "      <td>1.778721</td>\n",
       "      <td>NaN</td>\n",
       "      <td>2003.000000</td>\n",
       "      <td>NaN</td>\n",
       "      <td>NaN</td>\n",
       "      <td>156.000000</td>\n",
       "      <td>0.440000</td>\n",
       "      <td>0.382326</td>\n",
       "      <td>3.000000</td>\n",
       "      <td>NaN</td>\n",
       "      <td>NaN</td>\n",
       "      <td>NaN</td>\n",
       "      <td>NaN</td>\n",
       "      <td>0.000000</td>\n",
       "    </tr>\n",
       "    <tr>\n",
       "      <th>50%</th>\n",
       "      <td>15024.000000</td>\n",
       "      <td>32.000000</td>\n",
       "      <td>NaN</td>\n",
       "      <td>2.523730</td>\n",
       "      <td>NaN</td>\n",
       "      <td>2009.000000</td>\n",
       "      <td>NaN</td>\n",
       "      <td>NaN</td>\n",
       "      <td>200.000000</td>\n",
       "      <td>0.640000</td>\n",
       "      <td>0.448720</td>\n",
       "      <td>4.000000</td>\n",
       "      <td>NaN</td>\n",
       "      <td>NaN</td>\n",
       "      <td>NaN</td>\n",
       "      <td>NaN</td>\n",
       "      <td>0.000000</td>\n",
       "    </tr>\n",
       "    <tr>\n",
       "      <th>75%</th>\n",
       "      <td>17536.000000</td>\n",
       "      <td>39.000000</td>\n",
       "      <td>NaN</td>\n",
       "      <td>3.091618</td>\n",
       "      <td>NaN</td>\n",
       "      <td>2015.000000</td>\n",
       "      <td>NaN</td>\n",
       "      <td>NaN</td>\n",
       "      <td>246.000000</td>\n",
       "      <td>0.810000</td>\n",
       "      <td>0.522630</td>\n",
       "      <td>5.000000</td>\n",
       "      <td>NaN</td>\n",
       "      <td>NaN</td>\n",
       "      <td>NaN</td>\n",
       "      <td>NaN</td>\n",
       "      <td>0.000000</td>\n",
       "    </tr>\n",
       "    <tr>\n",
       "      <th>max</th>\n",
       "      <td>20048.000000</td>\n",
       "      <td>55.000000</td>\n",
       "      <td>NaN</td>\n",
       "      <td>3.989568</td>\n",
       "      <td>NaN</td>\n",
       "      <td>2024.000000</td>\n",
       "      <td>NaN</td>\n",
       "      <td>NaN</td>\n",
       "      <td>559.000000</td>\n",
       "      <td>1.000000</td>\n",
       "      <td>1.000000</td>\n",
       "      <td>7.000000</td>\n",
       "      <td>NaN</td>\n",
       "      <td>NaN</td>\n",
       "      <td>NaN</td>\n",
       "      <td>NaN</td>\n",
       "      <td>1.000000</td>\n",
       "    </tr>\n",
       "  </tbody>\n",
       "</table>\n",
       "</div>"
      ],
      "text/plain": [
       "         employee_id         umur jenis_kelamin           IPK      level  \\\n",
       "count   10049.000000  2338.000000         10049  10049.000000      10049   \n",
       "unique           NaN          NaN             2           NaN          6   \n",
       "top              NaN          NaN     Laki-laki           NaN  Full-Time   \n",
       "freq             NaN          NaN          8672           NaN       3488   \n",
       "mean    15024.000000    33.499572           NaN      2.396161        NaN   \n",
       "std      2901.040762     7.951891           NaN      0.868485        NaN   \n",
       "min     10000.000000    20.000000           NaN      0.003057        NaN   \n",
       "25%     12512.000000    27.000000           NaN      1.778721        NaN   \n",
       "50%     15024.000000    32.000000           NaN      2.523730        NaN   \n",
       "75%     17536.000000    39.000000           NaN      3.091618        NaN   \n",
       "max     20048.000000    55.000000           NaN      3.989568        NaN   \n",
       "\n",
       "        tahun_lulus status_perkawinan divisi  rerata_jam_bulanan  \\\n",
       "count   2338.000000             10049  10049         8700.000000   \n",
       "unique          NaN                 2     10                 NaN   \n",
       "top             NaN     Sudah Menikah  sales                 NaN   \n",
       "freq            NaN              6140   2795                 NaN   \n",
       "mean    2008.151839               NaN    NaN          202.981379   \n",
       "std        7.988843               NaN    NaN           56.708467   \n",
       "min     1986.000000               NaN    NaN           96.000000   \n",
       "25%     2003.000000               NaN    NaN          156.000000   \n",
       "50%     2009.000000               NaN    NaN          200.000000   \n",
       "75%     2015.000000               NaN    NaN          246.000000   \n",
       "max     2024.000000               NaN    NaN          559.000000   \n",
       "\n",
       "        tingkat_kepuasan_bekerja  nilai_evaluasi_terakhir  \\\n",
       "count                9253.000000              8499.000000   \n",
       "unique                       NaN                      NaN   \n",
       "top                          NaN                      NaN   \n",
       "freq                         NaN                      NaN   \n",
       "mean                    0.611906                 0.455847   \n",
       "std                     0.247945                 0.113812   \n",
       "min                     0.090000                 0.000000   \n",
       "25%                     0.440000                 0.382326   \n",
       "50%                     0.640000                 0.448720   \n",
       "75%                     0.810000                 0.522630   \n",
       "max                     1.000000                 1.000000   \n",
       "\n",
       "        jumlah_proyek_yang_dikerjakan lama_di_perusahaan kecelakaan_kerja  \\\n",
       "count                    10049.000000              10049            10049   \n",
       "unique                            NaN                 16                2   \n",
       "top                               NaN            3 Years     belum pernah   \n",
       "freq                              NaN               2710             8611   \n",
       "mean                         3.797691                NaN              NaN   \n",
       "std                          1.227331                NaN              NaN   \n",
       "min                          2.000000                NaN              NaN   \n",
       "25%                          3.000000                NaN              NaN   \n",
       "50%                          4.000000                NaN              NaN   \n",
       "75%                          5.000000                NaN              NaN   \n",
       "max                          7.000000                NaN              NaN   \n",
       "\n",
       "       promosi_5thn_lalu tingkat_gaji        resign  \n",
       "count              10049        10049  10049.000000  \n",
       "unique                 2            3           NaN  \n",
       "top                belum       rendah           NaN  \n",
       "freq                9831         4918           NaN  \n",
       "mean                 NaN          NaN      0.238034  \n",
       "std                  NaN          NaN      0.425901  \n",
       "min                  NaN          NaN      0.000000  \n",
       "25%                  NaN          NaN      0.000000  \n",
       "50%                  NaN          NaN      0.000000  \n",
       "75%                  NaN          NaN      0.000000  \n",
       "max                  NaN          NaN      1.000000  "
      ]
     },
     "execution_count": 7,
     "metadata": {},
     "output_type": "execute_result"
    }
   ],
   "source": [
    "df.describe(include = 'all')"
   ]
  },
  {
   "cell_type": "code",
   "execution_count": 8,
   "id": "01d7ffa5",
   "metadata": {},
   "outputs": [
    {
     "data": {
      "text/plain": [
       "<Figure size 432x288 with 0 Axes>"
      ]
     },
     "execution_count": 8,
     "metadata": {},
     "output_type": "execute_result"
    },
    {
     "data": {
      "image/png": "[encoded data removed]",
      "text/plain": [
       "<Figure size 1800x720 with 2 Axes>"
      ]
     },
     "metadata": {
      "needs_background": "light"
     },
     "output_type": "display_data"
    },
    {
     "data": {
      "text/plain": [
       "<Figure size 432x288 with 0 Axes>"
      ]
     },
     "metadata": {},
     "output_type": "display_data"
    }
   ],
   "source": [
    "import missingno as msno\n",
    "msno.matrix(df)\n",
    "plt.figure()"
   ]
  },
  {
   "cell_type": "code",
   "execution_count": 9,
   "id": "e40a2f85",
   "metadata": {
    "scrolled": false
   },
   "outputs": [
    {
     "data": {
      "text/plain": [
       "employee_id                         0\n",
       "umur                             7711\n",
       "jenis_kelamin                       0\n",
       "IPK                                 0\n",
       "level                               0\n",
       "tahun_lulus                      7711\n",
       "status_perkawinan                   0\n",
       "divisi                              0\n",
       "rerata_jam_bulanan               1349\n",
       "tingkat_kepuasan_bekerja          796\n",
       "nilai_evaluasi_terakhir          1550\n",
       "jumlah_proyek_yang_dikerjakan       0\n",
       "lama_di_perusahaan                  0\n",
       "kecelakaan_kerja                    0\n",
       "promosi_5thn_lalu                   0\n",
       "tingkat_gaji                        0\n",
       "resign                              0\n",
       "dtype: int64"
      ]
     },
     "execution_count": 9,
     "metadata": {},
     "output_type": "execute_result"
    }
   ],
   "source": [
    "df.isnull().sum()"
   ]
  },
  {
   "cell_type": "code",
   "execution_count": 10,
   "id": "edeb1648",
   "metadata": {
    "scrolled": true
   },
   "outputs": [
    {
     "data": {
      "text/plain": [
       "employee_id                      10049\n",
       "umur                                36\n",
       "jenis_kelamin                        2\n",
       "IPK                              10049\n",
       "level                                6\n",
       "tahun_lulus                         39\n",
       "status_perkawinan                    2\n",
       "divisi                              10\n",
       "rerata_jam_bulanan                 261\n",
       "tingkat_kepuasan_bekerja            92\n",
       "nilai_evaluasi_terakhir           8499\n",
       "jumlah_proyek_yang_dikerjakan        6\n",
       "lama_di_perusahaan                  16\n",
       "kecelakaan_kerja                     2\n",
       "promosi_5thn_lalu                    2\n",
       "tingkat_gaji                         3\n",
       "resign                               2\n",
       "dtype: int64"
      ]
     },
     "execution_count": 10,
     "metadata": {},
     "output_type": "execute_result"
    }
   ],
   "source": [
    "df.nunique()"
   ]
  },
  {
   "cell_type": "markdown",
   "id": "c5a62407",
   "metadata": {},
   "source": [
    "# 3. Data Preparation"
   ]
  },
  {
   "cell_type": "code",
   "execution_count": 11,
   "id": "f3e9fbf8",
   "metadata": {},
   "outputs": [],
   "source": [
    "# Memisahkan data kategorikal dan numerikal\n",
    "df_num = df[df.describe().columns]\n",
    "df_cat = df.drop(columns = df_num)"
   ]
  },
  {
   "cell_type": "code",
   "execution_count": 12,
   "id": "0c52e426",
   "metadata": {},
   "outputs": [
    {
     "data": {
      "text/html": [
       "<div>\n",
       "<style scoped>\n",
       "    .dataframe tbody tr th:only-of-type {\n",
       "        vertical-align: middle;\n",
       "    }\n",
       "\n",
       "    .dataframe tbody tr th {\n",
       "        vertical-align: top;\n",
       "    }\n",
       "\n",
       "    .dataframe thead th {\n",
       "        text-align: right;\n",
       "    }\n",
       "</style>\n",
       "<table border=\"1\" class=\"dataframe\">\n",
       "  <thead>\n",
       "    <tr style=\"text-align: right;\">\n",
       "      <th></th>\n",
       "      <th>jenis_kelamin</th>\n",
       "      <th>level</th>\n",
       "      <th>status_perkawinan</th>\n",
       "      <th>divisi</th>\n",
       "      <th>lama_di_perusahaan</th>\n",
       "      <th>kecelakaan_kerja</th>\n",
       "      <th>promosi_5thn_lalu</th>\n",
       "      <th>tingkat_gaji</th>\n",
       "    </tr>\n",
       "  </thead>\n",
       "  <tbody>\n",
       "    <tr>\n",
       "      <th>0</th>\n",
       "      <td>Laki-laki</td>\n",
       "      <td>Junior</td>\n",
       "      <td>Sudah Menikah</td>\n",
       "      <td>management</td>\n",
       "      <td>3 Years</td>\n",
       "      <td>belum pernah</td>\n",
       "      <td>belum</td>\n",
       "      <td>sedang</td>\n",
       "    </tr>\n",
       "    <tr>\n",
       "      <th>1</th>\n",
       "      <td>Laki-laki</td>\n",
       "      <td>Full-Time</td>\n",
       "      <td>Belum Menikah</td>\n",
       "      <td>sales</td>\n",
       "      <td>24 Months</td>\n",
       "      <td>belum pernah</td>\n",
       "      <td>belum</td>\n",
       "      <td>rendah</td>\n",
       "    </tr>\n",
       "    <tr>\n",
       "      <th>2</th>\n",
       "      <td>Laki-laki</td>\n",
       "      <td>Senior</td>\n",
       "      <td>Sudah Menikah</td>\n",
       "      <td>management</td>\n",
       "      <td>2 Years</td>\n",
       "      <td>pernah</td>\n",
       "      <td>belum</td>\n",
       "      <td>tinggi</td>\n",
       "    </tr>\n",
       "    <tr>\n",
       "      <th>3</th>\n",
       "      <td>Laki-laki</td>\n",
       "      <td>Full-Time</td>\n",
       "      <td>Belum Menikah</td>\n",
       "      <td>sales</td>\n",
       "      <td>36 Months</td>\n",
       "      <td>pernah</td>\n",
       "      <td>belum</td>\n",
       "      <td>rendah</td>\n",
       "    </tr>\n",
       "    <tr>\n",
       "      <th>4</th>\n",
       "      <td>Laki-laki</td>\n",
       "      <td>Part-Time</td>\n",
       "      <td>Belum Menikah</td>\n",
       "      <td>technical</td>\n",
       "      <td>3 Years</td>\n",
       "      <td>belum pernah</td>\n",
       "      <td>belum</td>\n",
       "      <td>rendah</td>\n",
       "    </tr>\n",
       "  </tbody>\n",
       "</table>\n",
       "</div>"
      ],
      "text/plain": [
       "  jenis_kelamin      level status_perkawinan      divisi lama_di_perusahaan  \\\n",
       "0     Laki-laki     Junior     Sudah Menikah  management            3 Years   \n",
       "1     Laki-laki  Full-Time     Belum Menikah       sales          24 Months   \n",
       "2     Laki-laki     Senior     Sudah Menikah  management            2 Years   \n",
       "3     Laki-laki  Full-Time     Belum Menikah       sales          36 Months   \n",
       "4     Laki-laki  Part-Time     Belum Menikah   technical            3 Years   \n",
       "\n",
       "  kecelakaan_kerja promosi_5thn_lalu tingkat_gaji  \n",
       "0     belum pernah             belum       sedang  \n",
       "1     belum pernah             belum       rendah  \n",
       "2           pernah             belum       tinggi  \n",
       "3           pernah             belum       rendah  \n",
       "4     belum pernah             belum       rendah  "
      ]
     },
     "execution_count": 12,
     "metadata": {},
     "output_type": "execute_result"
    }
   ],
   "source": [
    "df_cat.head()"
   ]
  },
  {
   "cell_type": "code",
   "execution_count": 13,
   "id": "a64f4318",
   "metadata": {
    "scrolled": true
   },
   "outputs": [
    {
     "data": {
      "text/html": [
       "<div>\n",
       "<style scoped>\n",
       "    .dataframe tbody tr th:only-of-type {\n",
       "        vertical-align: middle;\n",
       "    }\n",
       "\n",
       "    .dataframe tbody tr th {\n",
       "        vertical-align: top;\n",
       "    }\n",
       "\n",
       "    .dataframe thead th {\n",
       "        text-align: right;\n",
       "    }\n",
       "</style>\n",
       "<table border=\"1\" class=\"dataframe\">\n",
       "  <thead>\n",
       "    <tr style=\"text-align: right;\">\n",
       "      <th></th>\n",
       "      <th>employee_id</th>\n",
       "      <th>umur</th>\n",
       "      <th>IPK</th>\n",
       "      <th>tahun_lulus</th>\n",
       "      <th>rerata_jam_bulanan</th>\n",
       "      <th>tingkat_kepuasan_bekerja</th>\n",
       "      <th>nilai_evaluasi_terakhir</th>\n",
       "      <th>jumlah_proyek_yang_dikerjakan</th>\n",
       "      <th>resign</th>\n",
       "    </tr>\n",
       "  </thead>\n",
       "  <tbody>\n",
       "    <tr>\n",
       "      <th>0</th>\n",
       "      <td>10000</td>\n",
       "      <td>NaN</td>\n",
       "      <td>1.947303</td>\n",
       "      <td>NaN</td>\n",
       "      <td>210.0</td>\n",
       "      <td>0.82</td>\n",
       "      <td>0.419035</td>\n",
       "      <td>3</td>\n",
       "      <td>0</td>\n",
       "    </tr>\n",
       "    <tr>\n",
       "      <th>1</th>\n",
       "      <td>10001</td>\n",
       "      <td>NaN</td>\n",
       "      <td>3.218346</td>\n",
       "      <td>NaN</td>\n",
       "      <td>189.0</td>\n",
       "      <td>0.76</td>\n",
       "      <td>0.558254</td>\n",
       "      <td>3</td>\n",
       "      <td>0</td>\n",
       "    </tr>\n",
       "    <tr>\n",
       "      <th>2</th>\n",
       "      <td>10002</td>\n",
       "      <td>NaN</td>\n",
       "      <td>2.117364</td>\n",
       "      <td>NaN</td>\n",
       "      <td>NaN</td>\n",
       "      <td>0.81</td>\n",
       "      <td>0.580364</td>\n",
       "      <td>5</td>\n",
       "      <td>0</td>\n",
       "    </tr>\n",
       "    <tr>\n",
       "      <th>3</th>\n",
       "      <td>10003</td>\n",
       "      <td>NaN</td>\n",
       "      <td>3.178748</td>\n",
       "      <td>NaN</td>\n",
       "      <td>121.0</td>\n",
       "      <td>0.84</td>\n",
       "      <td>0.446109</td>\n",
       "      <td>3</td>\n",
       "      <td>0</td>\n",
       "    </tr>\n",
       "    <tr>\n",
       "      <th>4</th>\n",
       "      <td>10004</td>\n",
       "      <td>34.0</td>\n",
       "      <td>2.680535</td>\n",
       "      <td>2008.0</td>\n",
       "      <td>229.0</td>\n",
       "      <td>0.48</td>\n",
       "      <td>NaN</td>\n",
       "      <td>3</td>\n",
       "      <td>0</td>\n",
       "    </tr>\n",
       "  </tbody>\n",
       "</table>\n",
       "</div>"
      ],
      "text/plain": [
       "   employee_id  umur       IPK  tahun_lulus  rerata_jam_bulanan  \\\n",
       "0        10000   NaN  1.947303          NaN               210.0   \n",
       "1        10001   NaN  3.218346          NaN               189.0   \n",
       "2        10002   NaN  2.117364          NaN                 NaN   \n",
       "3        10003   NaN  3.178748          NaN               121.0   \n",
       "4        10004  34.0  2.680535       2008.0               229.0   \n",
       "\n",
       "   tingkat_kepuasan_bekerja  nilai_evaluasi_terakhir  \\\n",
       "0                      0.82                 0.419035   \n",
       "1                      0.76                 0.558254   \n",
       "2                      0.81                 0.580364   \n",
       "3                      0.84                 0.446109   \n",
       "4                      0.48                      NaN   \n",
       "\n",
       "   jumlah_proyek_yang_dikerjakan  resign  \n",
       "0                              3       0  \n",
       "1                              3       0  \n",
       "2                              5       0  \n",
       "3                              3       0  \n",
       "4                              3       0  "
      ]
     },
     "execution_count": 13,
     "metadata": {},
     "output_type": "execute_result"
    }
   ],
   "source": [
    "df_num.head()"
   ]
  },
  {
   "cell_type": "code",
   "execution_count": 14,
   "id": "a4000d02",
   "metadata": {},
   "outputs": [
    {
     "name": "stdout",
     "output_type": "stream",
     "text": [
      "Column jenis_kelamin has 2 unique values\n",
      "['Laki-laki' 'Perempuan']\n",
      "---------------------------------------------------\n",
      "Column level has 6 unique values\n",
      "['Junior' 'Full-Time' 'Senior' 'Part-Time' 'Probation' 'Internship']\n",
      "---------------------------------------------------\n",
      "Column status_perkawinan has 2 unique values\n",
      "['Sudah Menikah' 'Belum Menikah']\n",
      "---------------------------------------------------\n",
      "Column divisi has 10 unique values\n",
      "['management' 'sales' 'technical' 'hr' 'support' 'IT' 'RandD' 'marketing'\n",
      " 'product_mng' 'accounting']\n",
      "---------------------------------------------------\n",
      "Column lama_di_perusahaan has 16 unique values\n",
      "['3 Years' '24 Months' '2 Years' '36 Months' '4 Years' '48 Months'\n",
      " '60 Months' '72 Months' '5 Years' '6 Years' '7 Years' '96 Months'\n",
      " '10 Years' '8 Years' '84 Months' '120 Months']\n",
      "---------------------------------------------------\n",
      "Column kecelakaan_kerja has 2 unique values\n",
      "['belum pernah' 'pernah']\n",
      "---------------------------------------------------\n",
      "Column promosi_5thn_lalu has 2 unique values\n",
      "['belum' 'sudah']\n",
      "---------------------------------------------------\n",
      "Column tingkat_gaji has 3 unique values\n",
      "['sedang' 'rendah' 'tinggi']\n",
      "---------------------------------------------------\n"
     ]
    }
   ],
   "source": [
    "# Mengetahui list anggota dari masing-masing features\n",
    "for i in df_cat.columns:\n",
    "    print('Column {} has {} unique values'.format(i,df_cat[i].nunique()))\n",
    "    print(df_cat[i].unique())\n",
    "    print('---------------------------------------------------')"
   ]
  },
  {
   "cell_type": "code",
   "execution_count": 15,
   "id": "319e519e",
   "metadata": {},
   "outputs": [],
   "source": [
    "# define function converting data type column lama_di_perusahaan dari str menjadi int\n",
    "def convert_lama_di_perusahaan(s):\n",
    "    s = s.split()\n",
    "    if s[1] == 'Months':\n",
    "        months = int(s[0])\n",
    "    else:\n",
    "        months = int(s[0])*12\n",
    "    return months"
   ]
  },
  {
   "cell_type": "code",
   "execution_count": 16,
   "id": "fe063c86",
   "metadata": {},
   "outputs": [],
   "source": [
    "#converting data type column 'lama_di_perusahaan' dari obj menjadi int\n",
    "lama_di_perusahaan = df_cat['lama_di_perusahaan'].apply(lambda x:convert_lama_di_perusahaan(x))"
   ]
  },
  {
   "cell_type": "code",
   "execution_count": 17,
   "id": "30e49200",
   "metadata": {
    "scrolled": true
   },
   "outputs": [],
   "source": [
    "# Memindahkan kolom 'lama di perusahaan' ke data numerik\n",
    "df_num = pd.concat([df_num, lama_di_perusahaan], axis = 1)\n",
    "df_cat.drop(columns = 'lama_di_perusahaan', inplace = True)"
   ]
  },
  {
   "cell_type": "code",
   "execution_count": 18,
   "id": "06bb8b85",
   "metadata": {},
   "outputs": [
    {
     "data": {
      "text/html": [
       "<div>\n",
       "<style scoped>\n",
       "    .dataframe tbody tr th:only-of-type {\n",
       "        vertical-align: middle;\n",
       "    }\n",
       "\n",
       "    .dataframe tbody tr th {\n",
       "        vertical-align: top;\n",
       "    }\n",
       "\n",
       "    .dataframe thead th {\n",
       "        text-align: right;\n",
       "    }\n",
       "</style>\n",
       "<table border=\"1\" class=\"dataframe\">\n",
       "  <thead>\n",
       "    <tr style=\"text-align: right;\">\n",
       "      <th></th>\n",
       "      <th>employee_id</th>\n",
       "      <th>umur</th>\n",
       "      <th>IPK</th>\n",
       "      <th>tahun_lulus</th>\n",
       "      <th>rerata_jam_bulanan</th>\n",
       "      <th>tingkat_kepuasan_bekerja</th>\n",
       "      <th>nilai_evaluasi_terakhir</th>\n",
       "      <th>jumlah_proyek_yang_dikerjakan</th>\n",
       "      <th>resign</th>\n",
       "      <th>lama_di_perusahaan</th>\n",
       "    </tr>\n",
       "  </thead>\n",
       "  <tbody>\n",
       "    <tr>\n",
       "      <th>0</th>\n",
       "      <td>10000</td>\n",
       "      <td>NaN</td>\n",
       "      <td>1.947303</td>\n",
       "      <td>NaN</td>\n",
       "      <td>210.0</td>\n",
       "      <td>0.82</td>\n",
       "      <td>0.419035</td>\n",
       "      <td>3</td>\n",
       "      <td>0</td>\n",
       "      <td>36</td>\n",
       "    </tr>\n",
       "    <tr>\n",
       "      <th>1</th>\n",
       "      <td>10001</td>\n",
       "      <td>NaN</td>\n",
       "      <td>3.218346</td>\n",
       "      <td>NaN</td>\n",
       "      <td>189.0</td>\n",
       "      <td>0.76</td>\n",
       "      <td>0.558254</td>\n",
       "      <td>3</td>\n",
       "      <td>0</td>\n",
       "      <td>24</td>\n",
       "    </tr>\n",
       "    <tr>\n",
       "      <th>2</th>\n",
       "      <td>10002</td>\n",
       "      <td>NaN</td>\n",
       "      <td>2.117364</td>\n",
       "      <td>NaN</td>\n",
       "      <td>NaN</td>\n",
       "      <td>0.81</td>\n",
       "      <td>0.580364</td>\n",
       "      <td>5</td>\n",
       "      <td>0</td>\n",
       "      <td>24</td>\n",
       "    </tr>\n",
       "    <tr>\n",
       "      <th>3</th>\n",
       "      <td>10003</td>\n",
       "      <td>NaN</td>\n",
       "      <td>3.178748</td>\n",
       "      <td>NaN</td>\n",
       "      <td>121.0</td>\n",
       "      <td>0.84</td>\n",
       "      <td>0.446109</td>\n",
       "      <td>3</td>\n",
       "      <td>0</td>\n",
       "      <td>36</td>\n",
       "    </tr>\n",
       "    <tr>\n",
       "      <th>4</th>\n",
       "      <td>10004</td>\n",
       "      <td>34.0</td>\n",
       "      <td>2.680535</td>\n",
       "      <td>2008.0</td>\n",
       "      <td>229.0</td>\n",
       "      <td>0.48</td>\n",
       "      <td>NaN</td>\n",
       "      <td>3</td>\n",
       "      <td>0</td>\n",
       "      <td>36</td>\n",
       "    </tr>\n",
       "  </tbody>\n",
       "</table>\n",
       "</div>"
      ],
      "text/plain": [
       "   employee_id  umur       IPK  tahun_lulus  rerata_jam_bulanan  \\\n",
       "0        10000   NaN  1.947303          NaN               210.0   \n",
       "1        10001   NaN  3.218346          NaN               189.0   \n",
       "2        10002   NaN  2.117364          NaN                 NaN   \n",
       "3        10003   NaN  3.178748          NaN               121.0   \n",
       "4        10004  34.0  2.680535       2008.0               229.0   \n",
       "\n",
       "   tingkat_kepuasan_bekerja  nilai_evaluasi_terakhir  \\\n",
       "0                      0.82                 0.419035   \n",
       "1                      0.76                 0.558254   \n",
       "2                      0.81                 0.580364   \n",
       "3                      0.84                 0.446109   \n",
       "4                      0.48                      NaN   \n",
       "\n",
       "   jumlah_proyek_yang_dikerjakan  resign  lama_di_perusahaan  \n",
       "0                              3       0                  36  \n",
       "1                              3       0                  24  \n",
       "2                              5       0                  24  \n",
       "3                              3       0                  36  \n",
       "4                              3       0                  36  "
      ]
     },
     "execution_count": 18,
     "metadata": {},
     "output_type": "execute_result"
    }
   ],
   "source": [
    "df_num.head()"
   ]
  },
  {
   "cell_type": "code",
   "execution_count": 19,
   "id": "7c3fa444",
   "metadata": {
    "scrolled": false
   },
   "outputs": [
    {
     "data": {
      "text/html": [
       "<div>\n",
       "<style scoped>\n",
       "    .dataframe tbody tr th:only-of-type {\n",
       "        vertical-align: middle;\n",
       "    }\n",
       "\n",
       "    .dataframe tbody tr th {\n",
       "        vertical-align: top;\n",
       "    }\n",
       "\n",
       "    .dataframe thead th {\n",
       "        text-align: right;\n",
       "    }\n",
       "</style>\n",
       "<table border=\"1\" class=\"dataframe\">\n",
       "  <thead>\n",
       "    <tr style=\"text-align: right;\">\n",
       "      <th></th>\n",
       "      <th>jenis_kelamin</th>\n",
       "      <th>level</th>\n",
       "      <th>status_perkawinan</th>\n",
       "      <th>divisi</th>\n",
       "      <th>kecelakaan_kerja</th>\n",
       "      <th>promosi_5thn_lalu</th>\n",
       "      <th>tingkat_gaji</th>\n",
       "    </tr>\n",
       "  </thead>\n",
       "  <tbody>\n",
       "    <tr>\n",
       "      <th>0</th>\n",
       "      <td>Laki-laki</td>\n",
       "      <td>Junior</td>\n",
       "      <td>Sudah Menikah</td>\n",
       "      <td>management</td>\n",
       "      <td>belum pernah</td>\n",
       "      <td>belum</td>\n",
       "      <td>sedang</td>\n",
       "    </tr>\n",
       "    <tr>\n",
       "      <th>1</th>\n",
       "      <td>Laki-laki</td>\n",
       "      <td>Full-Time</td>\n",
       "      <td>Belum Menikah</td>\n",
       "      <td>sales</td>\n",
       "      <td>belum pernah</td>\n",
       "      <td>belum</td>\n",
       "      <td>rendah</td>\n",
       "    </tr>\n",
       "    <tr>\n",
       "      <th>2</th>\n",
       "      <td>Laki-laki</td>\n",
       "      <td>Senior</td>\n",
       "      <td>Sudah Menikah</td>\n",
       "      <td>management</td>\n",
       "      <td>pernah</td>\n",
       "      <td>belum</td>\n",
       "      <td>tinggi</td>\n",
       "    </tr>\n",
       "    <tr>\n",
       "      <th>3</th>\n",
       "      <td>Laki-laki</td>\n",
       "      <td>Full-Time</td>\n",
       "      <td>Belum Menikah</td>\n",
       "      <td>sales</td>\n",
       "      <td>pernah</td>\n",
       "      <td>belum</td>\n",
       "      <td>rendah</td>\n",
       "    </tr>\n",
       "    <tr>\n",
       "      <th>4</th>\n",
       "      <td>Laki-laki</td>\n",
       "      <td>Part-Time</td>\n",
       "      <td>Belum Menikah</td>\n",
       "      <td>technical</td>\n",
       "      <td>belum pernah</td>\n",
       "      <td>belum</td>\n",
       "      <td>rendah</td>\n",
       "    </tr>\n",
       "  </tbody>\n",
       "</table>\n",
       "</div>"
      ],
      "text/plain": [
       "  jenis_kelamin      level status_perkawinan      divisi kecelakaan_kerja  \\\n",
       "0     Laki-laki     Junior     Sudah Menikah  management     belum pernah   \n",
       "1     Laki-laki  Full-Time     Belum Menikah       sales     belum pernah   \n",
       "2     Laki-laki     Senior     Sudah Menikah  management           pernah   \n",
       "3     Laki-laki  Full-Time     Belum Menikah       sales           pernah   \n",
       "4     Laki-laki  Part-Time     Belum Menikah   technical     belum pernah   \n",
       "\n",
       "  promosi_5thn_lalu tingkat_gaji  \n",
       "0             belum       sedang  \n",
       "1             belum       rendah  \n",
       "2             belum       tinggi  \n",
       "3             belum       rendah  \n",
       "4             belum       rendah  "
      ]
     },
     "execution_count": 19,
     "metadata": {},
     "output_type": "execute_result"
    }
   ],
   "source": [
    "df_cat.head()"
   ]
  },
  {
   "cell_type": "code",
   "execution_count": 20,
   "id": "354d4ae2",
   "metadata": {},
   "outputs": [],
   "source": [
    "# Mengganti kolom lama di perusahaan yang semula str menjadi int\n",
    "df = pd.concat([df_num, df_cat], axis = 1)"
   ]
  },
  {
   "cell_type": "code",
   "execution_count": 21,
   "id": "9a6cf420",
   "metadata": {},
   "outputs": [
    {
     "data": {
      "text/html": [
       "<div>\n",
       "<style scoped>\n",
       "    .dataframe tbody tr th:only-of-type {\n",
       "        vertical-align: middle;\n",
       "    }\n",
       "\n",
       "    .dataframe tbody tr th {\n",
       "        vertical-align: top;\n",
       "    }\n",
       "\n",
       "    .dataframe thead th {\n",
       "        text-align: right;\n",
       "    }\n",
       "</style>\n",
       "<table border=\"1\" class=\"dataframe\">\n",
       "  <thead>\n",
       "    <tr style=\"text-align: right;\">\n",
       "      <th></th>\n",
       "      <th>employee_id</th>\n",
       "      <th>umur</th>\n",
       "      <th>IPK</th>\n",
       "      <th>tahun_lulus</th>\n",
       "      <th>rerata_jam_bulanan</th>\n",
       "      <th>tingkat_kepuasan_bekerja</th>\n",
       "      <th>nilai_evaluasi_terakhir</th>\n",
       "      <th>jumlah_proyek_yang_dikerjakan</th>\n",
       "      <th>resign</th>\n",
       "      <th>lama_di_perusahaan</th>\n",
       "      <th>jenis_kelamin</th>\n",
       "      <th>level</th>\n",
       "      <th>status_perkawinan</th>\n",
       "      <th>divisi</th>\n",
       "      <th>kecelakaan_kerja</th>\n",
       "      <th>promosi_5thn_lalu</th>\n",
       "      <th>tingkat_gaji</th>\n",
       "    </tr>\n",
       "  </thead>\n",
       "  <tbody>\n",
       "    <tr>\n",
       "      <th>0</th>\n",
       "      <td>10000</td>\n",
       "      <td>NaN</td>\n",
       "      <td>1.947303</td>\n",
       "      <td>NaN</td>\n",
       "      <td>210.0</td>\n",
       "      <td>0.82</td>\n",
       "      <td>0.419035</td>\n",
       "      <td>3</td>\n",
       "      <td>0</td>\n",
       "      <td>36</td>\n",
       "      <td>Laki-laki</td>\n",
       "      <td>Junior</td>\n",
       "      <td>Sudah Menikah</td>\n",
       "      <td>management</td>\n",
       "      <td>belum pernah</td>\n",
       "      <td>belum</td>\n",
       "      <td>sedang</td>\n",
       "    </tr>\n",
       "    <tr>\n",
       "      <th>1</th>\n",
       "      <td>10001</td>\n",
       "      <td>NaN</td>\n",
       "      <td>3.218346</td>\n",
       "      <td>NaN</td>\n",
       "      <td>189.0</td>\n",
       "      <td>0.76</td>\n",
       "      <td>0.558254</td>\n",
       "      <td>3</td>\n",
       "      <td>0</td>\n",
       "      <td>24</td>\n",
       "      <td>Laki-laki</td>\n",
       "      <td>Full-Time</td>\n",
       "      <td>Belum Menikah</td>\n",
       "      <td>sales</td>\n",
       "      <td>belum pernah</td>\n",
       "      <td>belum</td>\n",
       "      <td>rendah</td>\n",
       "    </tr>\n",
       "    <tr>\n",
       "      <th>2</th>\n",
       "      <td>10002</td>\n",
       "      <td>NaN</td>\n",
       "      <td>2.117364</td>\n",
       "      <td>NaN</td>\n",
       "      <td>NaN</td>\n",
       "      <td>0.81</td>\n",
       "      <td>0.580364</td>\n",
       "      <td>5</td>\n",
       "      <td>0</td>\n",
       "      <td>24</td>\n",
       "      <td>Laki-laki</td>\n",
       "      <td>Senior</td>\n",
       "      <td>Sudah Menikah</td>\n",
       "      <td>management</td>\n",
       "      <td>pernah</td>\n",
       "      <td>belum</td>\n",
       "      <td>tinggi</td>\n",
       "    </tr>\n",
       "    <tr>\n",
       "      <th>3</th>\n",
       "      <td>10003</td>\n",
       "      <td>NaN</td>\n",
       "      <td>3.178748</td>\n",
       "      <td>NaN</td>\n",
       "      <td>121.0</td>\n",
       "      <td>0.84</td>\n",
       "      <td>0.446109</td>\n",
       "      <td>3</td>\n",
       "      <td>0</td>\n",
       "      <td>36</td>\n",
       "      <td>Laki-laki</td>\n",
       "      <td>Full-Time</td>\n",
       "      <td>Belum Menikah</td>\n",
       "      <td>sales</td>\n",
       "      <td>pernah</td>\n",
       "      <td>belum</td>\n",
       "      <td>rendah</td>\n",
       "    </tr>\n",
       "    <tr>\n",
       "      <th>4</th>\n",
       "      <td>10004</td>\n",
       "      <td>34.0</td>\n",
       "      <td>2.680535</td>\n",
       "      <td>2008.0</td>\n",
       "      <td>229.0</td>\n",
       "      <td>0.48</td>\n",
       "      <td>NaN</td>\n",
       "      <td>3</td>\n",
       "      <td>0</td>\n",
       "      <td>36</td>\n",
       "      <td>Laki-laki</td>\n",
       "      <td>Part-Time</td>\n",
       "      <td>Belum Menikah</td>\n",
       "      <td>technical</td>\n",
       "      <td>belum pernah</td>\n",
       "      <td>belum</td>\n",
       "      <td>rendah</td>\n",
       "    </tr>\n",
       "  </tbody>\n",
       "</table>\n",
       "</div>"
      ],
      "text/plain": [
       "   employee_id  umur       IPK  tahun_lulus  rerata_jam_bulanan  \\\n",
       "0        10000   NaN  1.947303          NaN               210.0   \n",
       "1        10001   NaN  3.218346          NaN               189.0   \n",
       "2        10002   NaN  2.117364          NaN                 NaN   \n",
       "3        10003   NaN  3.178748          NaN               121.0   \n",
       "4        10004  34.0  2.680535       2008.0               229.0   \n",
       "\n",
       "   tingkat_kepuasan_bekerja  nilai_evaluasi_terakhir  \\\n",
       "0                      0.82                 0.419035   \n",
       "1                      0.76                 0.558254   \n",
       "2                      0.81                 0.580364   \n",
       "3                      0.84                 0.446109   \n",
       "4                      0.48                      NaN   \n",
       "\n",
       "   jumlah_proyek_yang_dikerjakan  resign  lama_di_perusahaan jenis_kelamin  \\\n",
       "0                              3       0                  36     Laki-laki   \n",
       "1                              3       0                  24     Laki-laki   \n",
       "2                              5       0                  24     Laki-laki   \n",
       "3                              3       0                  36     Laki-laki   \n",
       "4                              3       0                  36     Laki-laki   \n",
       "\n",
       "       level status_perkawinan      divisi kecelakaan_kerja promosi_5thn_lalu  \\\n",
       "0     Junior     Sudah Menikah  management     belum pernah             belum   \n",
       "1  Full-Time     Belum Menikah       sales     belum pernah             belum   \n",
       "2     Senior     Sudah Menikah  management           pernah             belum   \n",
       "3  Full-Time     Belum Menikah       sales           pernah             belum   \n",
       "4  Part-Time     Belum Menikah   technical     belum pernah             belum   \n",
       "\n",
       "  tingkat_gaji  \n",
       "0       sedang  \n",
       "1       rendah  \n",
       "2       tinggi  \n",
       "3       rendah  \n",
       "4       rendah  "
      ]
     },
     "execution_count": 21,
     "metadata": {},
     "output_type": "execute_result"
    }
   ],
   "source": [
    "df.head()"
   ]
  },
  {
   "cell_type": "markdown",
   "id": "64d9edb4",
   "metadata": {},
   "source": [
    "# 4. EDA and Feature Selection"
   ]
  },
  {
   "cell_type": "code",
   "execution_count": 22,
   "id": "307ea427",
   "metadata": {},
   "outputs": [
    {
     "data": {
      "text/plain": [
       "<AxesSubplot:>"
      ]
     },
     "execution_count": 22,
     "metadata": {},
     "output_type": "execute_result"
    },
    {
     "data": {
      "image/png": "[encoded data removed]",
      "text/plain": [
       "<Figure size 720x720 with 2 Axes>"
      ]
     },
     "metadata": {
      "needs_background": "light"
     },
     "output_type": "display_data"
    }
   ],
   "source": [
    "# Memvisualisasikan tingkat korelasi antar variabel\n",
    "plt.figure(figsize = (10,10))\n",
    "sns.heatmap(df.corr(), annot = True)"
   ]
  },
  {
   "cell_type": "code",
   "execution_count": 23,
   "id": "3842432f",
   "metadata": {
    "scrolled": true
   },
   "outputs": [
    {
     "data": {
      "text/plain": [
       "resign                           1.000000\n",
       "tingkat_kepuasan_bekerja         0.374346\n",
       "lama_di_perusahaan               0.139023\n",
       "rerata_jam_bulanan               0.042369\n",
       "tahun_lulus                      0.031777\n",
       "umur                             0.030955\n",
       "nilai_evaluasi_terakhir          0.019771\n",
       "jumlah_proyek_yang_dikerjakan    0.012742\n",
       "IPK                              0.011319\n",
       "employee_id                      0.010901\n",
       "Name: resign, dtype: float64"
      ]
     },
     "execution_count": 23,
     "metadata": {},
     "output_type": "execute_result"
    }
   ],
   "source": [
    "# mengurutkan absolut korelasi antara  features dengan 'resign' dari yang tertinggi ke terendah\n",
    "corr = abs(df.corr())\n",
    "corr_sorted = corr.sort_values(by =['resign'], ascending = False)\n",
    "corr_sorted['resign']"
   ]
  },
  {
   "cell_type": "code",
   "execution_count": 24,
   "id": "5bacccdd",
   "metadata": {},
   "outputs": [
    {
     "data": {
      "image/png": "[encoded data removed]",
      "text/plain": [
       "<Figure size 1008x1440 with 9 Axes>"
      ]
     },
     "metadata": {
      "needs_background": "light"
     },
     "output_type": "display_data"
    }
   ],
   "source": [
    "# Memvisualisasikan hubungan tiap features numerik dengan label\n",
    "fig, axes = plt.subplots(3,3, figsize = (14,20))\n",
    "\n",
    "for num, i in enumerate(df_num.drop(columns = 'resign').columns):\n",
    "    if num < 3:\n",
    "        sns.boxplot(x='resign', y=i, data = df_num, ax = axes[0,num])\n",
    "    elif num < 6:\n",
    "        sns.boxplot(x='resign', y=i, data = df_num, ax = axes[1,num-3])\n",
    "    else:\n",
    "        sns.boxplot(x='resign', y=i, data = df_num, ax = axes[2,num-6])\n"
   ]
  },
  {
   "cell_type": "code",
   "execution_count": 25,
   "id": "53c6e090",
   "metadata": {
    "scrolled": false
   },
   "outputs": [
    {
     "data": {
      "image/png": "[encoded data removed]",
      "text/plain": [
       "<Figure size 1008x1440 with 8 Axes>"
      ]
     },
     "metadata": {
      "needs_background": "light"
     },
     "output_type": "display_data"
    }
   ],
   "source": [
    "# Memvisualisasikan hubungan tiap features kategorikal dengan label\n",
    "fig, axes = plt.subplots(4,2, figsize = (14,20))\n",
    "\n",
    "for num, i in enumerate(df_cat):\n",
    "    if num < 2:\n",
    "        df.groupby('resign')[i].value_counts(normalize=True).unstack(i).plot.bar(stacked=True, ax = axes[0,num])\n",
    "    elif num < 4:\n",
    "        df.groupby('resign')[i].value_counts(normalize=True).unstack(i).plot.bar(stacked=True, ax = axes[1,num-2])\n",
    "    elif num < 6:\n",
    "        df.groupby('resign')[i].value_counts(normalize=True).unstack(i).plot.bar(stacked=True, ax = axes[2,num-4])\n",
    "    else:\n",
    "        df.groupby('resign')[i].value_counts(normalize=True).unstack(i).plot.bar(stacked=True, ax = axes[3,num-6])\n"
   ]
  },
  {
   "cell_type": "code",
   "execution_count": 26,
   "id": "18b45641",
   "metadata": {
    "scrolled": true
   },
   "outputs": [],
   "source": [
    "# Mengganti data type resign dari int menjadi obj\n",
    "df['resign'] = pd.Categorical(df['resign'], [0, 1])\n",
    "df_num.drop(columns = 'resign', inplace = True)"
   ]
  },
  {
   "cell_type": "code",
   "execution_count": 27,
   "id": "57d0e906",
   "metadata": {},
   "outputs": [
    {
     "data": {
      "text/html": [
       "<div>\n",
       "<style scoped>\n",
       "    .dataframe tbody tr th:only-of-type {\n",
       "        vertical-align: middle;\n",
       "    }\n",
       "\n",
       "    .dataframe tbody tr th {\n",
       "        vertical-align: top;\n",
       "    }\n",
       "\n",
       "    .dataframe thead th {\n",
       "        text-align: right;\n",
       "    }\n",
       "</style>\n",
       "<table border=\"1\" class=\"dataframe\">\n",
       "  <thead>\n",
       "    <tr style=\"text-align: right;\">\n",
       "      <th></th>\n",
       "      <th>jenis_kelamin</th>\n",
       "      <th>level</th>\n",
       "      <th>status_perkawinan</th>\n",
       "      <th>divisi</th>\n",
       "      <th>kecelakaan_kerja</th>\n",
       "      <th>promosi_5thn_lalu</th>\n",
       "      <th>tingkat_gaji</th>\n",
       "    </tr>\n",
       "  </thead>\n",
       "  <tbody>\n",
       "    <tr>\n",
       "      <th>0</th>\n",
       "      <td>Laki-laki</td>\n",
       "      <td>Junior</td>\n",
       "      <td>Sudah Menikah</td>\n",
       "      <td>management</td>\n",
       "      <td>belum pernah</td>\n",
       "      <td>belum</td>\n",
       "      <td>sedang</td>\n",
       "    </tr>\n",
       "    <tr>\n",
       "      <th>1</th>\n",
       "      <td>Laki-laki</td>\n",
       "      <td>Full-Time</td>\n",
       "      <td>Belum Menikah</td>\n",
       "      <td>sales</td>\n",
       "      <td>belum pernah</td>\n",
       "      <td>belum</td>\n",
       "      <td>rendah</td>\n",
       "    </tr>\n",
       "    <tr>\n",
       "      <th>2</th>\n",
       "      <td>Laki-laki</td>\n",
       "      <td>Senior</td>\n",
       "      <td>Sudah Menikah</td>\n",
       "      <td>management</td>\n",
       "      <td>pernah</td>\n",
       "      <td>belum</td>\n",
       "      <td>tinggi</td>\n",
       "    </tr>\n",
       "    <tr>\n",
       "      <th>3</th>\n",
       "      <td>Laki-laki</td>\n",
       "      <td>Full-Time</td>\n",
       "      <td>Belum Menikah</td>\n",
       "      <td>sales</td>\n",
       "      <td>pernah</td>\n",
       "      <td>belum</td>\n",
       "      <td>rendah</td>\n",
       "    </tr>\n",
       "    <tr>\n",
       "      <th>4</th>\n",
       "      <td>Laki-laki</td>\n",
       "      <td>Part-Time</td>\n",
       "      <td>Belum Menikah</td>\n",
       "      <td>technical</td>\n",
       "      <td>belum pernah</td>\n",
       "      <td>belum</td>\n",
       "      <td>rendah</td>\n",
       "    </tr>\n",
       "  </tbody>\n",
       "</table>\n",
       "</div>"
      ],
      "text/plain": [
       "  jenis_kelamin      level status_perkawinan      divisi kecelakaan_kerja  \\\n",
       "0     Laki-laki     Junior     Sudah Menikah  management     belum pernah   \n",
       "1     Laki-laki  Full-Time     Belum Menikah       sales     belum pernah   \n",
       "2     Laki-laki     Senior     Sudah Menikah  management           pernah   \n",
       "3     Laki-laki  Full-Time     Belum Menikah       sales           pernah   \n",
       "4     Laki-laki  Part-Time     Belum Menikah   technical     belum pernah   \n",
       "\n",
       "  promosi_5thn_lalu tingkat_gaji  \n",
       "0             belum       sedang  \n",
       "1             belum       rendah  \n",
       "2             belum       tinggi  \n",
       "3             belum       rendah  \n",
       "4             belum       rendah  "
      ]
     },
     "execution_count": 27,
     "metadata": {},
     "output_type": "execute_result"
    }
   ],
   "source": [
    "df_cat.head()"
   ]
  },
  {
   "cell_type": "code",
   "execution_count": 28,
   "id": "6ac04452",
   "metadata": {},
   "outputs": [
    {
     "data": {
      "text/html": [
       "<div>\n",
       "<style scoped>\n",
       "    .dataframe tbody tr th:only-of-type {\n",
       "        vertical-align: middle;\n",
       "    }\n",
       "\n",
       "    .dataframe tbody tr th {\n",
       "        vertical-align: top;\n",
       "    }\n",
       "\n",
       "    .dataframe thead th {\n",
       "        text-align: right;\n",
       "    }\n",
       "</style>\n",
       "<table border=\"1\" class=\"dataframe\">\n",
       "  <thead>\n",
       "    <tr style=\"text-align: right;\">\n",
       "      <th></th>\n",
       "      <th>employee_id</th>\n",
       "      <th>umur</th>\n",
       "      <th>IPK</th>\n",
       "      <th>tahun_lulus</th>\n",
       "      <th>rerata_jam_bulanan</th>\n",
       "      <th>tingkat_kepuasan_bekerja</th>\n",
       "      <th>nilai_evaluasi_terakhir</th>\n",
       "      <th>jumlah_proyek_yang_dikerjakan</th>\n",
       "      <th>lama_di_perusahaan</th>\n",
       "    </tr>\n",
       "  </thead>\n",
       "  <tbody>\n",
       "    <tr>\n",
       "      <th>0</th>\n",
       "      <td>10000</td>\n",
       "      <td>NaN</td>\n",
       "      <td>1.947303</td>\n",
       "      <td>NaN</td>\n",
       "      <td>210.0</td>\n",
       "      <td>0.82</td>\n",
       "      <td>0.419035</td>\n",
       "      <td>3</td>\n",
       "      <td>36</td>\n",
       "    </tr>\n",
       "    <tr>\n",
       "      <th>1</th>\n",
       "      <td>10001</td>\n",
       "      <td>NaN</td>\n",
       "      <td>3.218346</td>\n",
       "      <td>NaN</td>\n",
       "      <td>189.0</td>\n",
       "      <td>0.76</td>\n",
       "      <td>0.558254</td>\n",
       "      <td>3</td>\n",
       "      <td>24</td>\n",
       "    </tr>\n",
       "    <tr>\n",
       "      <th>2</th>\n",
       "      <td>10002</td>\n",
       "      <td>NaN</td>\n",
       "      <td>2.117364</td>\n",
       "      <td>NaN</td>\n",
       "      <td>NaN</td>\n",
       "      <td>0.81</td>\n",
       "      <td>0.580364</td>\n",
       "      <td>5</td>\n",
       "      <td>24</td>\n",
       "    </tr>\n",
       "    <tr>\n",
       "      <th>3</th>\n",
       "      <td>10003</td>\n",
       "      <td>NaN</td>\n",
       "      <td>3.178748</td>\n",
       "      <td>NaN</td>\n",
       "      <td>121.0</td>\n",
       "      <td>0.84</td>\n",
       "      <td>0.446109</td>\n",
       "      <td>3</td>\n",
       "      <td>36</td>\n",
       "    </tr>\n",
       "    <tr>\n",
       "      <th>4</th>\n",
       "      <td>10004</td>\n",
       "      <td>34.0</td>\n",
       "      <td>2.680535</td>\n",
       "      <td>2008.0</td>\n",
       "      <td>229.0</td>\n",
       "      <td>0.48</td>\n",
       "      <td>NaN</td>\n",
       "      <td>3</td>\n",
       "      <td>36</td>\n",
       "    </tr>\n",
       "  </tbody>\n",
       "</table>\n",
       "</div>"
      ],
      "text/plain": [
       "   employee_id  umur       IPK  tahun_lulus  rerata_jam_bulanan  \\\n",
       "0        10000   NaN  1.947303          NaN               210.0   \n",
       "1        10001   NaN  3.218346          NaN               189.0   \n",
       "2        10002   NaN  2.117364          NaN                 NaN   \n",
       "3        10003   NaN  3.178748          NaN               121.0   \n",
       "4        10004  34.0  2.680535       2008.0               229.0   \n",
       "\n",
       "   tingkat_kepuasan_bekerja  nilai_evaluasi_terakhir  \\\n",
       "0                      0.82                 0.419035   \n",
       "1                      0.76                 0.558254   \n",
       "2                      0.81                 0.580364   \n",
       "3                      0.84                 0.446109   \n",
       "4                      0.48                      NaN   \n",
       "\n",
       "   jumlah_proyek_yang_dikerjakan  lama_di_perusahaan  \n",
       "0                              3                  36  \n",
       "1                              3                  24  \n",
       "2                              5                  24  \n",
       "3                              3                  36  \n",
       "4                              3                  36  "
      ]
     },
     "execution_count": 28,
     "metadata": {},
     "output_type": "execute_result"
    }
   ],
   "source": [
    "df_num.head()"
   ]
  },
  {
   "cell_type": "code",
   "execution_count": 29,
   "id": "068c3a80",
   "metadata": {
    "scrolled": false
   },
   "outputs": [
    {
     "name": "stdout",
     "output_type": "stream",
     "text": [
      "Column jenis_kelamin has 0.44259258157953985 p-value\n",
      "Column level has 0.20622714118378757 p-value\n",
      "Column status_perkawinan has 0.9224355817512937 p-value\n",
      "Column divisi has 8.703908166751932e-11 p-value\n",
      "Column kecelakaan_kerja has 1.3865403745860126e-55 p-value\n",
      "Column promosi_5thn_lalu has 1.8326032452196294e-09 p-value\n",
      "Column tingkat_gaji has 5.930458308957078e-57 p-value\n"
     ]
    }
   ],
   "source": [
    "# Menentukan p-value dari uji chi-squared untuk features kategorikal\n",
    "from scipy.stats import chi2_contingency\n",
    "from scipy.stats import chi\n",
    "\n",
    "cat_fix = []\n",
    "for i in df_cat.columns:\n",
    "    cont = pd.crosstab(df_cat[i], df['resign'])\n",
    "    c, p, dof, expexted = chi2_contingency(cont)\n",
    "    print('Column {} has {} p-value'.format(i,p))\n",
    "    if p < 0.05/2:\n",
    "        cat_fix.append(i)"
   ]
  },
  {
   "cell_type": "code",
   "execution_count": 30,
   "id": "1911616e",
   "metadata": {
    "scrolled": false
   },
   "outputs": [
    {
     "data": {
      "text/html": [
       "<div>\n",
       "<style scoped>\n",
       "    .dataframe tbody tr th:only-of-type {\n",
       "        vertical-align: middle;\n",
       "    }\n",
       "\n",
       "    .dataframe tbody tr th {\n",
       "        vertical-align: top;\n",
       "    }\n",
       "\n",
       "    .dataframe thead th {\n",
       "        text-align: right;\n",
       "    }\n",
       "</style>\n",
       "<table border=\"1\" class=\"dataframe\">\n",
       "  <thead>\n",
       "    <tr style=\"text-align: right;\">\n",
       "      <th></th>\n",
       "      <th>divisi</th>\n",
       "      <th>kecelakaan_kerja</th>\n",
       "      <th>promosi_5thn_lalu</th>\n",
       "      <th>tingkat_gaji</th>\n",
       "    </tr>\n",
       "  </thead>\n",
       "  <tbody>\n",
       "    <tr>\n",
       "      <th>0</th>\n",
       "      <td>management</td>\n",
       "      <td>belum pernah</td>\n",
       "      <td>belum</td>\n",
       "      <td>sedang</td>\n",
       "    </tr>\n",
       "    <tr>\n",
       "      <th>1</th>\n",
       "      <td>sales</td>\n",
       "      <td>belum pernah</td>\n",
       "      <td>belum</td>\n",
       "      <td>rendah</td>\n",
       "    </tr>\n",
       "    <tr>\n",
       "      <th>2</th>\n",
       "      <td>management</td>\n",
       "      <td>pernah</td>\n",
       "      <td>belum</td>\n",
       "      <td>tinggi</td>\n",
       "    </tr>\n",
       "    <tr>\n",
       "      <th>3</th>\n",
       "      <td>sales</td>\n",
       "      <td>pernah</td>\n",
       "      <td>belum</td>\n",
       "      <td>rendah</td>\n",
       "    </tr>\n",
       "    <tr>\n",
       "      <th>4</th>\n",
       "      <td>technical</td>\n",
       "      <td>belum pernah</td>\n",
       "      <td>belum</td>\n",
       "      <td>rendah</td>\n",
       "    </tr>\n",
       "  </tbody>\n",
       "</table>\n",
       "</div>"
      ],
      "text/plain": [
       "       divisi kecelakaan_kerja promosi_5thn_lalu tingkat_gaji\n",
       "0  management     belum pernah             belum       sedang\n",
       "1       sales     belum pernah             belum       rendah\n",
       "2  management           pernah             belum       tinggi\n",
       "3       sales           pernah             belum       rendah\n",
       "4   technical     belum pernah             belum       rendah"
      ]
     },
     "execution_count": 30,
     "metadata": {},
     "output_type": "execute_result"
    }
   ],
   "source": [
    "# Membuang features kategorikal yang tidak penting (menggunakan taraf signifikan sebesar 5%)\n",
    "df_cat_fix = df_cat[cat_fix]\n",
    "df_cat_fix.head()"
   ]
  },
  {
   "cell_type": "code",
   "execution_count": 31,
   "id": "982d7c18",
   "metadata": {},
   "outputs": [],
   "source": [
    "# Melakukan One Hot Encoding\n",
    "df_cat = pd.get_dummies(df_cat_fix)"
   ]
  },
  {
   "cell_type": "code",
   "execution_count": 32,
   "id": "a130c9d6",
   "metadata": {},
   "outputs": [
    {
     "data": {
      "text/html": [
       "<div>\n",
       "<style scoped>\n",
       "    .dataframe tbody tr th:only-of-type {\n",
       "        vertical-align: middle;\n",
       "    }\n",
       "\n",
       "    .dataframe tbody tr th {\n",
       "        vertical-align: top;\n",
       "    }\n",
       "\n",
       "    .dataframe thead th {\n",
       "        text-align: right;\n",
       "    }\n",
       "</style>\n",
       "<table border=\"1\" class=\"dataframe\">\n",
       "  <thead>\n",
       "    <tr style=\"text-align: right;\">\n",
       "      <th></th>\n",
       "      <th>divisi_IT</th>\n",
       "      <th>divisi_RandD</th>\n",
       "      <th>divisi_accounting</th>\n",
       "      <th>divisi_hr</th>\n",
       "      <th>divisi_management</th>\n",
       "      <th>divisi_marketing</th>\n",
       "      <th>divisi_product_mng</th>\n",
       "      <th>divisi_sales</th>\n",
       "      <th>divisi_support</th>\n",
       "      <th>divisi_technical</th>\n",
       "      <th>kecelakaan_kerja_belum pernah</th>\n",
       "      <th>kecelakaan_kerja_pernah</th>\n",
       "      <th>promosi_5thn_lalu_belum</th>\n",
       "      <th>promosi_5thn_lalu_sudah</th>\n",
       "      <th>tingkat_gaji_rendah</th>\n",
       "      <th>tingkat_gaji_sedang</th>\n",
       "      <th>tingkat_gaji_tinggi</th>\n",
       "    </tr>\n",
       "  </thead>\n",
       "  <tbody>\n",
       "    <tr>\n",
       "      <th>0</th>\n",
       "      <td>0</td>\n",
       "      <td>0</td>\n",
       "      <td>0</td>\n",
       "      <td>0</td>\n",
       "      <td>1</td>\n",
       "      <td>0</td>\n",
       "      <td>0</td>\n",
       "      <td>0</td>\n",
       "      <td>0</td>\n",
       "      <td>0</td>\n",
       "      <td>1</td>\n",
       "      <td>0</td>\n",
       "      <td>1</td>\n",
       "      <td>0</td>\n",
       "      <td>0</td>\n",
       "      <td>1</td>\n",
       "      <td>0</td>\n",
       "    </tr>\n",
       "    <tr>\n",
       "      <th>1</th>\n",
       "      <td>0</td>\n",
       "      <td>0</td>\n",
       "      <td>0</td>\n",
       "      <td>0</td>\n",
       "      <td>0</td>\n",
       "      <td>0</td>\n",
       "      <td>0</td>\n",
       "      <td>1</td>\n",
       "      <td>0</td>\n",
       "      <td>0</td>\n",
       "      <td>1</td>\n",
       "      <td>0</td>\n",
       "      <td>1</td>\n",
       "      <td>0</td>\n",
       "      <td>1</td>\n",
       "      <td>0</td>\n",
       "      <td>0</td>\n",
       "    </tr>\n",
       "    <tr>\n",
       "      <th>2</th>\n",
       "      <td>0</td>\n",
       "      <td>0</td>\n",
       "      <td>0</td>\n",
       "      <td>0</td>\n",
       "      <td>1</td>\n",
       "      <td>0</td>\n",
       "      <td>0</td>\n",
       "      <td>0</td>\n",
       "      <td>0</td>\n",
       "      <td>0</td>\n",
       "      <td>0</td>\n",
       "      <td>1</td>\n",
       "      <td>1</td>\n",
       "      <td>0</td>\n",
       "      <td>0</td>\n",
       "      <td>0</td>\n",
       "      <td>1</td>\n",
       "    </tr>\n",
       "    <tr>\n",
       "      <th>3</th>\n",
       "      <td>0</td>\n",
       "      <td>0</td>\n",
       "      <td>0</td>\n",
       "      <td>0</td>\n",
       "      <td>0</td>\n",
       "      <td>0</td>\n",
       "      <td>0</td>\n",
       "      <td>1</td>\n",
       "      <td>0</td>\n",
       "      <td>0</td>\n",
       "      <td>0</td>\n",
       "      <td>1</td>\n",
       "      <td>1</td>\n",
       "      <td>0</td>\n",
       "      <td>1</td>\n",
       "      <td>0</td>\n",
       "      <td>0</td>\n",
       "    </tr>\n",
       "    <tr>\n",
       "      <th>4</th>\n",
       "      <td>0</td>\n",
       "      <td>0</td>\n",
       "      <td>0</td>\n",
       "      <td>0</td>\n",
       "      <td>0</td>\n",
       "      <td>0</td>\n",
       "      <td>0</td>\n",
       "      <td>0</td>\n",
       "      <td>0</td>\n",
       "      <td>1</td>\n",
       "      <td>1</td>\n",
       "      <td>0</td>\n",
       "      <td>1</td>\n",
       "      <td>0</td>\n",
       "      <td>1</td>\n",
       "      <td>0</td>\n",
       "      <td>0</td>\n",
       "    </tr>\n",
       "  </tbody>\n",
       "</table>\n",
       "</div>"
      ],
      "text/plain": [
       "   divisi_IT  divisi_RandD  divisi_accounting  divisi_hr  divisi_management  \\\n",
       "0          0             0                  0          0                  1   \n",
       "1          0             0                  0          0                  0   \n",
       "2          0             0                  0          0                  1   \n",
       "3          0             0                  0          0                  0   \n",
       "4          0             0                  0          0                  0   \n",
       "\n",
       "   divisi_marketing  divisi_product_mng  divisi_sales  divisi_support  \\\n",
       "0                 0                   0             0               0   \n",
       "1                 0                   0             1               0   \n",
       "2                 0                   0             0               0   \n",
       "3                 0                   0             1               0   \n",
       "4                 0                   0             0               0   \n",
       "\n",
       "   divisi_technical  kecelakaan_kerja_belum pernah  kecelakaan_kerja_pernah  \\\n",
       "0                 0                              1                        0   \n",
       "1                 0                              1                        0   \n",
       "2                 0                              0                        1   \n",
       "3                 0                              0                        1   \n",
       "4                 1                              1                        0   \n",
       "\n",
       "   promosi_5thn_lalu_belum  promosi_5thn_lalu_sudah  tingkat_gaji_rendah  \\\n",
       "0                        1                        0                    0   \n",
       "1                        1                        0                    1   \n",
       "2                        1                        0                    0   \n",
       "3                        1                        0                    1   \n",
       "4                        1                        0                    1   \n",
       "\n",
       "   tingkat_gaji_sedang  tingkat_gaji_tinggi  \n",
       "0                    1                    0  \n",
       "1                    0                    0  \n",
       "2                    0                    1  \n",
       "3                    0                    0  \n",
       "4                    0                    0  "
      ]
     },
     "execution_count": 32,
     "metadata": {},
     "output_type": "execute_result"
    }
   ],
   "source": [
    "df_cat.head()"
   ]
  },
  {
   "cell_type": "code",
   "execution_count": 33,
   "id": "7632bd79",
   "metadata": {},
   "outputs": [],
   "source": [
    "# Mengisi missing value pada features numerik\n",
    "import statsmodels.api as sm\n",
    "from sklearn.impute import SimpleImputer\n",
    "\n",
    "logit_data = df_num.copy()\n",
    "logit_col = logit_data.columns\n",
    "\n",
    "s_imp = SimpleImputer(missing_values = np.nan, strategy = 'mean')\n",
    "logit_data = s_imp.fit_transform(logit_data)"
   ]
  },
  {
   "cell_type": "code",
   "execution_count": 34,
   "id": "4d896aac",
   "metadata": {
    "scrolled": false
   },
   "outputs": [
    {
     "data": {
      "text/html": [
       "<div>\n",
       "<style scoped>\n",
       "    .dataframe tbody tr th:only-of-type {\n",
       "        vertical-align: middle;\n",
       "    }\n",
       "\n",
       "    .dataframe tbody tr th {\n",
       "        vertical-align: top;\n",
       "    }\n",
       "\n",
       "    .dataframe thead th {\n",
       "        text-align: right;\n",
       "    }\n",
       "</style>\n",
       "<table border=\"1\" class=\"dataframe\">\n",
       "  <thead>\n",
       "    <tr style=\"text-align: right;\">\n",
       "      <th></th>\n",
       "      <th>employee_id</th>\n",
       "      <th>umur</th>\n",
       "      <th>IPK</th>\n",
       "      <th>tahun_lulus</th>\n",
       "      <th>rerata_jam_bulanan</th>\n",
       "      <th>tingkat_kepuasan_bekerja</th>\n",
       "      <th>nilai_evaluasi_terakhir</th>\n",
       "      <th>jumlah_proyek_yang_dikerjakan</th>\n",
       "      <th>lama_di_perusahaan</th>\n",
       "    </tr>\n",
       "  </thead>\n",
       "  <tbody>\n",
       "    <tr>\n",
       "      <th>0</th>\n",
       "      <td>10000.0</td>\n",
       "      <td>33.499572</td>\n",
       "      <td>1.947303</td>\n",
       "      <td>2008.151839</td>\n",
       "      <td>210.000000</td>\n",
       "      <td>0.82</td>\n",
       "      <td>0.419035</td>\n",
       "      <td>3.0</td>\n",
       "      <td>36.0</td>\n",
       "    </tr>\n",
       "    <tr>\n",
       "      <th>1</th>\n",
       "      <td>10001.0</td>\n",
       "      <td>33.499572</td>\n",
       "      <td>3.218346</td>\n",
       "      <td>2008.151839</td>\n",
       "      <td>189.000000</td>\n",
       "      <td>0.76</td>\n",
       "      <td>0.558254</td>\n",
       "      <td>3.0</td>\n",
       "      <td>24.0</td>\n",
       "    </tr>\n",
       "    <tr>\n",
       "      <th>2</th>\n",
       "      <td>10002.0</td>\n",
       "      <td>33.499572</td>\n",
       "      <td>2.117364</td>\n",
       "      <td>2008.151839</td>\n",
       "      <td>202.981379</td>\n",
       "      <td>0.81</td>\n",
       "      <td>0.580364</td>\n",
       "      <td>5.0</td>\n",
       "      <td>24.0</td>\n",
       "    </tr>\n",
       "    <tr>\n",
       "      <th>3</th>\n",
       "      <td>10003.0</td>\n",
       "      <td>33.499572</td>\n",
       "      <td>3.178748</td>\n",
       "      <td>2008.151839</td>\n",
       "      <td>121.000000</td>\n",
       "      <td>0.84</td>\n",
       "      <td>0.446109</td>\n",
       "      <td>3.0</td>\n",
       "      <td>36.0</td>\n",
       "    </tr>\n",
       "    <tr>\n",
       "      <th>4</th>\n",
       "      <td>10004.0</td>\n",
       "      <td>34.000000</td>\n",
       "      <td>2.680535</td>\n",
       "      <td>2008.000000</td>\n",
       "      <td>229.000000</td>\n",
       "      <td>0.48</td>\n",
       "      <td>0.455847</td>\n",
       "      <td>3.0</td>\n",
       "      <td>36.0</td>\n",
       "    </tr>\n",
       "  </tbody>\n",
       "</table>\n",
       "</div>"
      ],
      "text/plain": [
       "   employee_id       umur       IPK  tahun_lulus  rerata_jam_bulanan  \\\n",
       "0      10000.0  33.499572  1.947303  2008.151839          210.000000   \n",
       "1      10001.0  33.499572  3.218346  2008.151839          189.000000   \n",
       "2      10002.0  33.499572  2.117364  2008.151839          202.981379   \n",
       "3      10003.0  33.499572  3.178748  2008.151839          121.000000   \n",
       "4      10004.0  34.000000  2.680535  2008.000000          229.000000   \n",
       "\n",
       "   tingkat_kepuasan_bekerja  nilai_evaluasi_terakhir  \\\n",
       "0                      0.82                 0.419035   \n",
       "1                      0.76                 0.558254   \n",
       "2                      0.81                 0.580364   \n",
       "3                      0.84                 0.446109   \n",
       "4                      0.48                 0.455847   \n",
       "\n",
       "   jumlah_proyek_yang_dikerjakan  lama_di_perusahaan  \n",
       "0                            3.0                36.0  \n",
       "1                            3.0                24.0  \n",
       "2                            5.0                24.0  \n",
       "3                            3.0                36.0  \n",
       "4                            3.0                36.0  "
      ]
     },
     "execution_count": 34,
     "metadata": {},
     "output_type": "execute_result"
    }
   ],
   "source": [
    "imputed_df_num = pd.DataFrame(logit_data, columns = logit_col)\n",
    "imputed_df_num.head()"
   ]
  },
  {
   "cell_type": "code",
   "execution_count": 35,
   "id": "0ec2eb9c",
   "metadata": {
    "scrolled": false
   },
   "outputs": [
    {
     "data": {
      "text/plain": [
       "employee_id                      0\n",
       "umur                             0\n",
       "IPK                              0\n",
       "tahun_lulus                      0\n",
       "rerata_jam_bulanan               0\n",
       "tingkat_kepuasan_bekerja         0\n",
       "nilai_evaluasi_terakhir          0\n",
       "jumlah_proyek_yang_dikerjakan    0\n",
       "lama_di_perusahaan               0\n",
       "dtype: int64"
      ]
     },
     "execution_count": 35,
     "metadata": {},
     "output_type": "execute_result"
    }
   ],
   "source": [
    "imputed_df_num.isnull().sum()"
   ]
  },
  {
   "cell_type": "code",
   "execution_count": 158,
   "id": "1ce32886",
   "metadata": {
    "scrolled": false
   },
   "outputs": [
    {
     "name": "stdout",
     "output_type": "stream",
     "text": [
      "Optimization terminated successfully.\n",
      "         Current function value: 0.473992\n",
      "         Iterations 6\n",
      "                           Logit Regression Results                           \n",
      "==============================================================================\n",
      "Dep. Variable:                 resign   No. Observations:                10049\n",
      "Model:                          Logit   Df Residuals:                    10040\n",
      "Method:                           MLE   Df Model:                            8\n",
      "Date:                Wed, 11 Aug 2021   Pseudo R-squ.:                  0.1363\n",
      "Time:                        01:39:11   Log-Likelihood:                -4763.2\n",
      "converged:                       True   LL-Null:                       -5514.9\n",
      "Covariance Type:            nonrobust   LLR p-value:                     0.000\n",
      "=================================================================================================\n",
      "                                    coef    std err          z      P>|z|      [0.025      0.975]\n",
      "-------------------------------------------------------------------------------------------------\n",
      "employee_id                    5.868e-06    8.8e-06      0.667      0.505   -1.14e-05    2.31e-05\n",
      "umur                              0.0118      0.006      1.845      0.065      -0.001       0.024\n",
      "IPK                               0.0289      0.029      0.979      0.327      -0.029       0.087\n",
      "tahun_lulus                   -1.235e-05      0.000     -0.081      0.936      -0.000       0.000\n",
      "rerata_jam_bulanan                0.0027      0.000      5.419      0.000       0.002       0.004\n",
      "tingkat_kepuasan_bekerja         -3.8021      0.114    -33.390      0.000      -4.025      -3.579\n",
      "nilai_evaluasi_terakhir          -0.1219      0.250     -0.488      0.626      -0.612       0.368\n",
      "jumlah_proyek_yang_dikerjakan    -0.2060      0.022     -9.473      0.000      -0.249      -0.163\n",
      "lama_di_perusahaan                0.0167      0.001     12.049      0.000       0.014       0.019\n",
      "=================================================================================================\n"
     ]
    }
   ],
   "source": [
    "# Menentukan p-value dari uji logistic regression untuk features numerik\n",
    "logit_mod = sm.Logit(exog = imputed_df_num, endog = df['resign'])\n",
    "logit_res = logit_mod.fit()\n",
    "print(logit_res.summary())"
   ]
  },
  {
   "cell_type": "code",
   "execution_count": 37,
   "id": "0bcbedfa",
   "metadata": {
    "scrolled": false
   },
   "outputs": [
    {
     "data": {
      "text/html": [
       "<div>\n",
       "<style scoped>\n",
       "    .dataframe tbody tr th:only-of-type {\n",
       "        vertical-align: middle;\n",
       "    }\n",
       "\n",
       "    .dataframe tbody tr th {\n",
       "        vertical-align: top;\n",
       "    }\n",
       "\n",
       "    .dataframe thead th {\n",
       "        text-align: right;\n",
       "    }\n",
       "</style>\n",
       "<table border=\"1\" class=\"dataframe\">\n",
       "  <thead>\n",
       "    <tr style=\"text-align: right;\">\n",
       "      <th></th>\n",
       "      <th>rerata_jam_bulanan</th>\n",
       "      <th>tingkat_kepuasan_bekerja</th>\n",
       "      <th>jumlah_proyek_yang_dikerjakan</th>\n",
       "      <th>lama_di_perusahaan</th>\n",
       "    </tr>\n",
       "  </thead>\n",
       "  <tbody>\n",
       "    <tr>\n",
       "      <th>0</th>\n",
       "      <td>210.0</td>\n",
       "      <td>0.82</td>\n",
       "      <td>3</td>\n",
       "      <td>36</td>\n",
       "    </tr>\n",
       "    <tr>\n",
       "      <th>1</th>\n",
       "      <td>189.0</td>\n",
       "      <td>0.76</td>\n",
       "      <td>3</td>\n",
       "      <td>24</td>\n",
       "    </tr>\n",
       "    <tr>\n",
       "      <th>2</th>\n",
       "      <td>NaN</td>\n",
       "      <td>0.81</td>\n",
       "      <td>5</td>\n",
       "      <td>24</td>\n",
       "    </tr>\n",
       "    <tr>\n",
       "      <th>3</th>\n",
       "      <td>121.0</td>\n",
       "      <td>0.84</td>\n",
       "      <td>3</td>\n",
       "      <td>36</td>\n",
       "    </tr>\n",
       "    <tr>\n",
       "      <th>4</th>\n",
       "      <td>229.0</td>\n",
       "      <td>0.48</td>\n",
       "      <td>3</td>\n",
       "      <td>36</td>\n",
       "    </tr>\n",
       "  </tbody>\n",
       "</table>\n",
       "</div>"
      ],
      "text/plain": [
       "   rerata_jam_bulanan  tingkat_kepuasan_bekerja  \\\n",
       "0               210.0                      0.82   \n",
       "1               189.0                      0.76   \n",
       "2                 NaN                      0.81   \n",
       "3               121.0                      0.84   \n",
       "4               229.0                      0.48   \n",
       "\n",
       "   jumlah_proyek_yang_dikerjakan  lama_di_perusahaan  \n",
       "0                              3                  36  \n",
       "1                              3                  24  \n",
       "2                              5                  24  \n",
       "3                              3                  36  \n",
       "4                              3                  36  "
      ]
     },
     "execution_count": 37,
     "metadata": {},
     "output_type": "execute_result"
    }
   ],
   "source": [
    "# Membuang features numerical yang tidak penting (menggunakan taraf signifikan sebesar 5%)\n",
    "num_fix = ['rerata_jam_bulanan', 'tingkat_kepuasan_bekerja', 'jumlah_proyek_yang_dikerjakan', 'lama_di_perusahaan']\n",
    "df_num = df_num[num_fix]\n",
    "df_num.head()"
   ]
  },
  {
   "cell_type": "code",
   "execution_count": 38,
   "id": "4ca0d4b4",
   "metadata": {
    "scrolled": true
   },
   "outputs": [
    {
     "name": "stdout",
     "output_type": "stream",
     "text": [
      "<class 'pandas.core.frame.DataFrame'>\n",
      "RangeIndex: 10049 entries, 0 to 10048\n",
      "Data columns (total 4 columns):\n",
      " #   Column                         Non-Null Count  Dtype  \n",
      "---  ------                         --------------  -----  \n",
      " 0   rerata_jam_bulanan             8700 non-null   float64\n",
      " 1   tingkat_kepuasan_bekerja       9253 non-null   float64\n",
      " 2   jumlah_proyek_yang_dikerjakan  10049 non-null  int64  \n",
      " 3   lama_di_perusahaan             10049 non-null  int64  \n",
      "dtypes: float64(2), int64(2)\n",
      "memory usage: 314.2 KB\n"
     ]
    }
   ],
   "source": [
    "df_num.info()"
   ]
  },
  {
   "cell_type": "code",
   "execution_count": 39,
   "id": "da0bd526",
   "metadata": {},
   "outputs": [],
   "source": [
    "# Menggabungkan data kategorikal dan numerik terbaru\n",
    "\n",
    "df_new = pd.concat([df_num, df_cat, df['resign']], axis = 1)"
   ]
  },
  {
   "cell_type": "code",
   "execution_count": 40,
   "id": "1654ab4e",
   "metadata": {
    "scrolled": true
   },
   "outputs": [
    {
     "data": {
      "text/html": [
       "<div>\n",
       "<style scoped>\n",
       "    .dataframe tbody tr th:only-of-type {\n",
       "        vertical-align: middle;\n",
       "    }\n",
       "\n",
       "    .dataframe tbody tr th {\n",
       "        vertical-align: top;\n",
       "    }\n",
       "\n",
       "    .dataframe thead th {\n",
       "        text-align: right;\n",
       "    }\n",
       "</style>\n",
       "<table border=\"1\" class=\"dataframe\">\n",
       "  <thead>\n",
       "    <tr style=\"text-align: right;\">\n",
       "      <th></th>\n",
       "      <th>rerata_jam_bulanan</th>\n",
       "      <th>tingkat_kepuasan_bekerja</th>\n",
       "      <th>jumlah_proyek_yang_dikerjakan</th>\n",
       "      <th>lama_di_perusahaan</th>\n",
       "      <th>divisi_IT</th>\n",
       "      <th>divisi_RandD</th>\n",
       "      <th>divisi_accounting</th>\n",
       "      <th>divisi_hr</th>\n",
       "      <th>divisi_management</th>\n",
       "      <th>divisi_marketing</th>\n",
       "      <th>...</th>\n",
       "      <th>divisi_support</th>\n",
       "      <th>divisi_technical</th>\n",
       "      <th>kecelakaan_kerja_belum pernah</th>\n",
       "      <th>kecelakaan_kerja_pernah</th>\n",
       "      <th>promosi_5thn_lalu_belum</th>\n",
       "      <th>promosi_5thn_lalu_sudah</th>\n",
       "      <th>tingkat_gaji_rendah</th>\n",
       "      <th>tingkat_gaji_sedang</th>\n",
       "      <th>tingkat_gaji_tinggi</th>\n",
       "      <th>resign</th>\n",
       "    </tr>\n",
       "  </thead>\n",
       "  <tbody>\n",
       "    <tr>\n",
       "      <th>0</th>\n",
       "      <td>210.0</td>\n",
       "      <td>0.82</td>\n",
       "      <td>3</td>\n",
       "      <td>36</td>\n",
       "      <td>0</td>\n",
       "      <td>0</td>\n",
       "      <td>0</td>\n",
       "      <td>0</td>\n",
       "      <td>1</td>\n",
       "      <td>0</td>\n",
       "      <td>...</td>\n",
       "      <td>0</td>\n",
       "      <td>0</td>\n",
       "      <td>1</td>\n",
       "      <td>0</td>\n",
       "      <td>1</td>\n",
       "      <td>0</td>\n",
       "      <td>0</td>\n",
       "      <td>1</td>\n",
       "      <td>0</td>\n",
       "      <td>0</td>\n",
       "    </tr>\n",
       "    <tr>\n",
       "      <th>1</th>\n",
       "      <td>189.0</td>\n",
       "      <td>0.76</td>\n",
       "      <td>3</td>\n",
       "      <td>24</td>\n",
       "      <td>0</td>\n",
       "      <td>0</td>\n",
       "      <td>0</td>\n",
       "      <td>0</td>\n",
       "      <td>0</td>\n",
       "      <td>0</td>\n",
       "      <td>...</td>\n",
       "      <td>0</td>\n",
       "      <td>0</td>\n",
       "      <td>1</td>\n",
       "      <td>0</td>\n",
       "      <td>1</td>\n",
       "      <td>0</td>\n",
       "      <td>1</td>\n",
       "      <td>0</td>\n",
       "      <td>0</td>\n",
       "      <td>0</td>\n",
       "    </tr>\n",
       "    <tr>\n",
       "      <th>2</th>\n",
       "      <td>NaN</td>\n",
       "      <td>0.81</td>\n",
       "      <td>5</td>\n",
       "      <td>24</td>\n",
       "      <td>0</td>\n",
       "      <td>0</td>\n",
       "      <td>0</td>\n",
       "      <td>0</td>\n",
       "      <td>1</td>\n",
       "      <td>0</td>\n",
       "      <td>...</td>\n",
       "      <td>0</td>\n",
       "      <td>0</td>\n",
       "      <td>0</td>\n",
       "      <td>1</td>\n",
       "      <td>1</td>\n",
       "      <td>0</td>\n",
       "      <td>0</td>\n",
       "      <td>0</td>\n",
       "      <td>1</td>\n",
       "      <td>0</td>\n",
       "    </tr>\n",
       "    <tr>\n",
       "      <th>3</th>\n",
       "      <td>121.0</td>\n",
       "      <td>0.84</td>\n",
       "      <td>3</td>\n",
       "      <td>36</td>\n",
       "      <td>0</td>\n",
       "      <td>0</td>\n",
       "      <td>0</td>\n",
       "      <td>0</td>\n",
       "      <td>0</td>\n",
       "      <td>0</td>\n",
       "      <td>...</td>\n",
       "      <td>0</td>\n",
       "      <td>0</td>\n",
       "      <td>0</td>\n",
       "      <td>1</td>\n",
       "      <td>1</td>\n",
       "      <td>0</td>\n",
       "      <td>1</td>\n",
       "      <td>0</td>\n",
       "      <td>0</td>\n",
       "      <td>0</td>\n",
       "    </tr>\n",
       "    <tr>\n",
       "      <th>4</th>\n",
       "      <td>229.0</td>\n",
       "      <td>0.48</td>\n",
       "      <td>3</td>\n",
       "      <td>36</td>\n",
       "      <td>0</td>\n",
       "      <td>0</td>\n",
       "      <td>0</td>\n",
       "      <td>0</td>\n",
       "      <td>0</td>\n",
       "      <td>0</td>\n",
       "      <td>...</td>\n",
       "      <td>0</td>\n",
       "      <td>1</td>\n",
       "      <td>1</td>\n",
       "      <td>0</td>\n",
       "      <td>1</td>\n",
       "      <td>0</td>\n",
       "      <td>1</td>\n",
       "      <td>0</td>\n",
       "      <td>0</td>\n",
       "      <td>0</td>\n",
       "    </tr>\n",
       "  </tbody>\n",
       "</table>\n",
       "<p>5 rows × 22 columns</p>\n",
       "</div>"
      ],
      "text/plain": [
       "   rerata_jam_bulanan  tingkat_kepuasan_bekerja  \\\n",
       "0               210.0                      0.82   \n",
       "1               189.0                      0.76   \n",
       "2                 NaN                      0.81   \n",
       "3               121.0                      0.84   \n",
       "4               229.0                      0.48   \n",
       "\n",
       "   jumlah_proyek_yang_dikerjakan  lama_di_perusahaan  divisi_IT  divisi_RandD  \\\n",
       "0                              3                  36          0             0   \n",
       "1                              3                  24          0             0   \n",
       "2                              5                  24          0             0   \n",
       "3                              3                  36          0             0   \n",
       "4                              3                  36          0             0   \n",
       "\n",
       "   divisi_accounting  divisi_hr  divisi_management  divisi_marketing  ...  \\\n",
       "0                  0          0                  1                 0  ...   \n",
       "1                  0          0                  0                 0  ...   \n",
       "2                  0          0                  1                 0  ...   \n",
       "3                  0          0                  0                 0  ...   \n",
       "4                  0          0                  0                 0  ...   \n",
       "\n",
       "   divisi_support  divisi_technical  kecelakaan_kerja_belum pernah  \\\n",
       "0               0                 0                              1   \n",
       "1               0                 0                              1   \n",
       "2               0                 0                              0   \n",
       "3               0                 0                              0   \n",
       "4               0                 1                              1   \n",
       "\n",
       "   kecelakaan_kerja_pernah  promosi_5thn_lalu_belum  promosi_5thn_lalu_sudah  \\\n",
       "0                        0                        1                        0   \n",
       "1                        0                        1                        0   \n",
       "2                        1                        1                        0   \n",
       "3                        1                        1                        0   \n",
       "4                        0                        1                        0   \n",
       "\n",
       "   tingkat_gaji_rendah  tingkat_gaji_sedang  tingkat_gaji_tinggi  resign  \n",
       "0                    0                    1                    0       0  \n",
       "1                    1                    0                    0       0  \n",
       "2                    0                    0                    1       0  \n",
       "3                    1                    0                    0       0  \n",
       "4                    1                    0                    0       0  \n",
       "\n",
       "[5 rows x 22 columns]"
      ]
     },
     "execution_count": 40,
     "metadata": {},
     "output_type": "execute_result"
    }
   ],
   "source": [
    "df_new.head()"
   ]
  },
  {
   "cell_type": "markdown",
   "id": "b3cbaf3c",
   "metadata": {},
   "source": [
    "# 5. Data Preprocessing"
   ]
  },
  {
   "cell_type": "code",
   "execution_count": 41,
   "id": "36404e69",
   "metadata": {},
   "outputs": [],
   "source": [
    "# Membagi data menjadi prediktor dan target\n",
    "X = df_new.drop(columns = 'resign')\n",
    "X_col = X.columns\n",
    "y = df_new['resign']"
   ]
  },
  {
   "cell_type": "code",
   "execution_count": 42,
   "id": "05b2b95a",
   "metadata": {},
   "outputs": [
    {
     "data": {
      "text/plain": [
       "array([[210.        ,   0.82      ,   3.        , ...,   0.        ,\n",
       "          1.        ,   0.        ],\n",
       "       [189.        ,   0.76      ,   3.        , ...,   1.        ,\n",
       "          0.        ,   0.        ],\n",
       "       [224.70154415,   0.81      ,   5.        , ...,   0.        ,\n",
       "          0.        ,   1.        ],\n",
       "       ...,\n",
       "       [134.        ,   0.44      ,   2.        , ...,   0.        ,\n",
       "          1.        ,   0.        ],\n",
       "       [167.        ,   0.73      ,   5.        , ...,   1.        ,\n",
       "          0.        ,   0.        ],\n",
       "       [154.        ,   0.97      ,   3.        , ...,   0.        ,\n",
       "          1.        ,   0.        ]])"
      ]
     },
     "execution_count": 42,
     "metadata": {},
     "output_type": "execute_result"
    }
   ],
   "source": [
    "from sklearn.experimental import enable_iterative_imputer\n",
    "from sklearn.impute import IterativeImputer\n",
    "\n",
    "imp = IterativeImputer(max_iter = 200, random_state = 0, imputation_order = 'ascending')\n",
    "imp.fit(X,y)\n",
    "X = imp.transform(X)\n",
    "X"
   ]
  },
  {
   "cell_type": "code",
   "execution_count": 43,
   "id": "a44b5a83",
   "metadata": {
    "scrolled": true
   },
   "outputs": [
    {
     "data": {
      "text/html": [
       "<div>\n",
       "<style scoped>\n",
       "    .dataframe tbody tr th:only-of-type {\n",
       "        vertical-align: middle;\n",
       "    }\n",
       "\n",
       "    .dataframe tbody tr th {\n",
       "        vertical-align: top;\n",
       "    }\n",
       "\n",
       "    .dataframe thead th {\n",
       "        text-align: right;\n",
       "    }\n",
       "</style>\n",
       "<table border=\"1\" class=\"dataframe\">\n",
       "  <thead>\n",
       "    <tr style=\"text-align: right;\">\n",
       "      <th></th>\n",
       "      <th>rerata_jam_bulanan</th>\n",
       "      <th>tingkat_kepuasan_bekerja</th>\n",
       "      <th>jumlah_proyek_yang_dikerjakan</th>\n",
       "      <th>lama_di_perusahaan</th>\n",
       "      <th>divisi_IT</th>\n",
       "      <th>divisi_RandD</th>\n",
       "      <th>divisi_accounting</th>\n",
       "      <th>divisi_hr</th>\n",
       "      <th>divisi_management</th>\n",
       "      <th>divisi_marketing</th>\n",
       "      <th>...</th>\n",
       "      <th>divisi_sales</th>\n",
       "      <th>divisi_support</th>\n",
       "      <th>divisi_technical</th>\n",
       "      <th>kecelakaan_kerja_belum pernah</th>\n",
       "      <th>kecelakaan_kerja_pernah</th>\n",
       "      <th>promosi_5thn_lalu_belum</th>\n",
       "      <th>promosi_5thn_lalu_sudah</th>\n",
       "      <th>tingkat_gaji_rendah</th>\n",
       "      <th>tingkat_gaji_sedang</th>\n",
       "      <th>tingkat_gaji_tinggi</th>\n",
       "    </tr>\n",
       "  </thead>\n",
       "  <tbody>\n",
       "    <tr>\n",
       "      <th>0</th>\n",
       "      <td>210.000000</td>\n",
       "      <td>0.82</td>\n",
       "      <td>3.0</td>\n",
       "      <td>36.0</td>\n",
       "      <td>0.0</td>\n",
       "      <td>0.0</td>\n",
       "      <td>0.0</td>\n",
       "      <td>0.0</td>\n",
       "      <td>1.0</td>\n",
       "      <td>0.0</td>\n",
       "      <td>...</td>\n",
       "      <td>0.0</td>\n",
       "      <td>0.0</td>\n",
       "      <td>0.0</td>\n",
       "      <td>1.0</td>\n",
       "      <td>0.0</td>\n",
       "      <td>1.0</td>\n",
       "      <td>0.0</td>\n",
       "      <td>0.0</td>\n",
       "      <td>1.0</td>\n",
       "      <td>0.0</td>\n",
       "    </tr>\n",
       "    <tr>\n",
       "      <th>1</th>\n",
       "      <td>189.000000</td>\n",
       "      <td>0.76</td>\n",
       "      <td>3.0</td>\n",
       "      <td>24.0</td>\n",
       "      <td>0.0</td>\n",
       "      <td>0.0</td>\n",
       "      <td>0.0</td>\n",
       "      <td>0.0</td>\n",
       "      <td>0.0</td>\n",
       "      <td>0.0</td>\n",
       "      <td>...</td>\n",
       "      <td>1.0</td>\n",
       "      <td>0.0</td>\n",
       "      <td>0.0</td>\n",
       "      <td>1.0</td>\n",
       "      <td>0.0</td>\n",
       "      <td>1.0</td>\n",
       "      <td>0.0</td>\n",
       "      <td>1.0</td>\n",
       "      <td>0.0</td>\n",
       "      <td>0.0</td>\n",
       "    </tr>\n",
       "    <tr>\n",
       "      <th>2</th>\n",
       "      <td>224.701544</td>\n",
       "      <td>0.81</td>\n",
       "      <td>5.0</td>\n",
       "      <td>24.0</td>\n",
       "      <td>0.0</td>\n",
       "      <td>0.0</td>\n",
       "      <td>0.0</td>\n",
       "      <td>0.0</td>\n",
       "      <td>1.0</td>\n",
       "      <td>0.0</td>\n",
       "      <td>...</td>\n",
       "      <td>0.0</td>\n",
       "      <td>0.0</td>\n",
       "      <td>0.0</td>\n",
       "      <td>0.0</td>\n",
       "      <td>1.0</td>\n",
       "      <td>1.0</td>\n",
       "      <td>0.0</td>\n",
       "      <td>0.0</td>\n",
       "      <td>0.0</td>\n",
       "      <td>1.0</td>\n",
       "    </tr>\n",
       "    <tr>\n",
       "      <th>3</th>\n",
       "      <td>121.000000</td>\n",
       "      <td>0.84</td>\n",
       "      <td>3.0</td>\n",
       "      <td>36.0</td>\n",
       "      <td>0.0</td>\n",
       "      <td>0.0</td>\n",
       "      <td>0.0</td>\n",
       "      <td>0.0</td>\n",
       "      <td>0.0</td>\n",
       "      <td>0.0</td>\n",
       "      <td>...</td>\n",
       "      <td>1.0</td>\n",
       "      <td>0.0</td>\n",
       "      <td>0.0</td>\n",
       "      <td>0.0</td>\n",
       "      <td>1.0</td>\n",
       "      <td>1.0</td>\n",
       "      <td>0.0</td>\n",
       "      <td>1.0</td>\n",
       "      <td>0.0</td>\n",
       "      <td>0.0</td>\n",
       "    </tr>\n",
       "    <tr>\n",
       "      <th>4</th>\n",
       "      <td>229.000000</td>\n",
       "      <td>0.48</td>\n",
       "      <td>3.0</td>\n",
       "      <td>36.0</td>\n",
       "      <td>0.0</td>\n",
       "      <td>0.0</td>\n",
       "      <td>0.0</td>\n",
       "      <td>0.0</td>\n",
       "      <td>0.0</td>\n",
       "      <td>0.0</td>\n",
       "      <td>...</td>\n",
       "      <td>0.0</td>\n",
       "      <td>0.0</td>\n",
       "      <td>1.0</td>\n",
       "      <td>1.0</td>\n",
       "      <td>0.0</td>\n",
       "      <td>1.0</td>\n",
       "      <td>0.0</td>\n",
       "      <td>1.0</td>\n",
       "      <td>0.0</td>\n",
       "      <td>0.0</td>\n",
       "    </tr>\n",
       "  </tbody>\n",
       "</table>\n",
       "<p>5 rows × 21 columns</p>\n",
       "</div>"
      ],
      "text/plain": [
       "   rerata_jam_bulanan  tingkat_kepuasan_bekerja  \\\n",
       "0          210.000000                      0.82   \n",
       "1          189.000000                      0.76   \n",
       "2          224.701544                      0.81   \n",
       "3          121.000000                      0.84   \n",
       "4          229.000000                      0.48   \n",
       "\n",
       "   jumlah_proyek_yang_dikerjakan  lama_di_perusahaan  divisi_IT  divisi_RandD  \\\n",
       "0                            3.0                36.0        0.0           0.0   \n",
       "1                            3.0                24.0        0.0           0.0   \n",
       "2                            5.0                24.0        0.0           0.0   \n",
       "3                            3.0                36.0        0.0           0.0   \n",
       "4                            3.0                36.0        0.0           0.0   \n",
       "\n",
       "   divisi_accounting  divisi_hr  divisi_management  divisi_marketing  ...  \\\n",
       "0                0.0        0.0                1.0               0.0  ...   \n",
       "1                0.0        0.0                0.0               0.0  ...   \n",
       "2                0.0        0.0                1.0               0.0  ...   \n",
       "3                0.0        0.0                0.0               0.0  ...   \n",
       "4                0.0        0.0                0.0               0.0  ...   \n",
       "\n",
       "   divisi_sales  divisi_support  divisi_technical  \\\n",
       "0           0.0             0.0               0.0   \n",
       "1           1.0             0.0               0.0   \n",
       "2           0.0             0.0               0.0   \n",
       "3           1.0             0.0               0.0   \n",
       "4           0.0             0.0               1.0   \n",
       "\n",
       "   kecelakaan_kerja_belum pernah  kecelakaan_kerja_pernah  \\\n",
       "0                            1.0                      0.0   \n",
       "1                            1.0                      0.0   \n",
       "2                            0.0                      1.0   \n",
       "3                            0.0                      1.0   \n",
       "4                            1.0                      0.0   \n",
       "\n",
       "   promosi_5thn_lalu_belum  promosi_5thn_lalu_sudah  tingkat_gaji_rendah  \\\n",
       "0                      1.0                      0.0                  0.0   \n",
       "1                      1.0                      0.0                  1.0   \n",
       "2                      1.0                      0.0                  0.0   \n",
       "3                      1.0                      0.0                  1.0   \n",
       "4                      1.0                      0.0                  1.0   \n",
       "\n",
       "   tingkat_gaji_sedang  tingkat_gaji_tinggi  \n",
       "0                  1.0                  0.0  \n",
       "1                  0.0                  0.0  \n",
       "2                  0.0                  1.0  \n",
       "3                  0.0                  0.0  \n",
       "4                  0.0                  0.0  \n",
       "\n",
       "[5 rows x 21 columns]"
      ]
     },
     "execution_count": 43,
     "metadata": {},
     "output_type": "execute_result"
    }
   ],
   "source": [
    "X = pd.DataFrame(X)\n",
    "X.columns = X_col\n",
    "X.head()"
   ]
  },
  {
   "cell_type": "code",
   "execution_count": 44,
   "id": "2260d33c",
   "metadata": {
    "scrolled": false
   },
   "outputs": [
    {
     "data": {
      "text/plain": [
       "<AxesSubplot:>"
      ]
     },
     "execution_count": 44,
     "metadata": {},
     "output_type": "execute_result"
    },
    {
     "data": {
      "image/png": "[encoded data removed]",
      "text/plain": [
       "<Figure size 1800x720 with 2 Axes>"
      ]
     },
     "metadata": {
      "needs_background": "light"
     },
     "output_type": "display_data"
    }
   ],
   "source": [
    "msno.matrix(X)"
   ]
  },
  {
   "cell_type": "code",
   "execution_count": 45,
   "id": "dc861aa0",
   "metadata": {
    "scrolled": true
   },
   "outputs": [
    {
     "data": {
      "text/plain": [
       "<AxesSubplot:xlabel='resign', ylabel='count'>"
      ]
     },
     "execution_count": 45,
     "metadata": {},
     "output_type": "execute_result"
    },
    {
     "data": {
      "image/png": "[encoded data removed]",
      "text/plain": [
       "<Figure size 432x288 with 1 Axes>"
      ]
     },
     "metadata": {
      "needs_background": "light"
     },
     "output_type": "display_data"
    }
   ],
   "source": [
    "# Cek kesimbangan target\n",
    "import seaborn as sns\n",
    "sns.countplot(y)"
   ]
  },
  {
   "cell_type": "code",
   "execution_count": 46,
   "id": "62611b96",
   "metadata": {},
   "outputs": [],
   "source": [
    "#!pip install imblearn\n",
    "import imblearn\n",
    "from imblearn import over_sampling"
   ]
  },
  {
   "cell_type": "code",
   "execution_count": 47,
   "id": "c089243d",
   "metadata": {},
   "outputs": [],
   "source": [
    "oversample = over_sampling.RandomOverSampler(sampling_strategy = 0.8)\n",
    "\n",
    "X, y = oversample.fit_resample(X,y)"
   ]
  },
  {
   "cell_type": "code",
   "execution_count": 48,
   "id": "78189e44",
   "metadata": {},
   "outputs": [
    {
     "data": {
      "text/plain": [
       "(13782, 21)"
      ]
     },
     "execution_count": 48,
     "metadata": {},
     "output_type": "execute_result"
    }
   ],
   "source": [
    "X.shape"
   ]
  },
  {
   "cell_type": "code",
   "execution_count": 49,
   "id": "1c199841",
   "metadata": {
    "scrolled": true
   },
   "outputs": [
    {
     "data": {
      "text/plain": [
       "<AxesSubplot:xlabel='resign', ylabel='count'>"
      ]
     },
     "execution_count": 49,
     "metadata": {},
     "output_type": "execute_result"
    },
    {
     "data": {
      "image/png": "[encoded data removed]",
      "text/plain": [
       "<Figure size 432x288 with 1 Axes>"
      ]
     },
     "metadata": {
      "needs_background": "light"
     },
     "output_type": "display_data"
    }
   ],
   "source": [
    "sns.countplot(y)"
   ]
  },
  {
   "cell_type": "code",
   "execution_count": 50,
   "id": "e9797172",
   "metadata": {},
   "outputs": [],
   "source": [
    "# memisahkan data train untuk ditrain dan ditest\n",
    "from sklearn.model_selection import train_test_split\n",
    "\n",
    "X_train, X_test, y_train, y_test = train_test_split(X, y, test_size = 0.2, random_state = 10)"
   ]
  },
  {
   "cell_type": "code",
   "execution_count": 51,
   "id": "e1e49779",
   "metadata": {},
   "outputs": [
    {
     "data": {
      "text/plain": [
       "((11025, 21), (2757, 21), (11025,), (2757,))"
      ]
     },
     "execution_count": 51,
     "metadata": {},
     "output_type": "execute_result"
    }
   ],
   "source": [
    "X_train.shape, X_test.shape, y_train.shape, y_test.shape"
   ]
  },
  {
   "cell_type": "code",
   "execution_count": 52,
   "id": "27c3217e",
   "metadata": {},
   "outputs": [],
   "source": [
    "# Normalisasi data\n",
    "from sklearn.preprocessing import MinMaxScaler\n",
    "\n",
    "MinMax = MinMaxScaler()\n",
    "X_scaled = MinMax.fit_transform(X)\n",
    "\n",
    "MinMax.fit(X_train)\n",
    "X_train = MinMax.transform(X_train)\n",
    "X_test = MinMax.transform(X_test)"
   ]
  },
  {
   "cell_type": "markdown",
   "id": "b9a48d6e",
   "metadata": {},
   "source": [
    "# 6. Model Selection"
   ]
  },
  {
   "cell_type": "code",
   "execution_count": 151,
   "id": "f1939a81",
   "metadata": {},
   "outputs": [],
   "source": [
    "from sklearn.metrics import classification_report, confusion_matrix, plot_confusion_matrix, recall_score, precision_score"
   ]
  },
  {
   "cell_type": "markdown",
   "id": "ac67cab2",
   "metadata": {},
   "source": [
    "### Decision Tree Classifier"
   ]
  },
  {
   "cell_type": "code",
   "execution_count": 54,
   "id": "97a85a74",
   "metadata": {},
   "outputs": [],
   "source": [
    "from sklearn.tree import DecisionTreeClassifier"
   ]
  },
  {
   "cell_type": "code",
   "execution_count": 55,
   "id": "0f9ea3ba",
   "metadata": {},
   "outputs": [],
   "source": [
    "model = DecisionTreeClassifier()\n",
    "model.fit(X_train, y_train)\n",
    "y_pred = model.predict(X_test)"
   ]
  },
  {
   "cell_type": "code",
   "execution_count": 56,
   "id": "1c1bbde9",
   "metadata": {
    "scrolled": true
   },
   "outputs": [
    {
     "name": "stdout",
     "output_type": "stream",
     "text": [
      "              precision    recall  f1-score   support\n",
      "\n",
      "           0       0.99      0.97      0.98      1577\n",
      "           1       0.96      0.99      0.97      1180\n",
      "\n",
      "    accuracy                           0.98      2757\n",
      "   macro avg       0.97      0.98      0.98      2757\n",
      "weighted avg       0.98      0.98      0.98      2757\n",
      "\n"
     ]
    }
   ],
   "source": [
    "print(classification_report(y_test, y_pred))"
   ]
  },
  {
   "cell_type": "code",
   "execution_count": 57,
   "id": "5c65bc23",
   "metadata": {},
   "outputs": [
    {
     "data": {
      "text/plain": [
       "0.9898305084745763"
      ]
     },
     "execution_count": 57,
     "metadata": {},
     "output_type": "execute_result"
    }
   ],
   "source": [
    "DTC_score = recall_score(y_test, y_pred)\n",
    "DTC_score"
   ]
  },
  {
   "cell_type": "code",
   "execution_count": 58,
   "id": "5d5e1757",
   "metadata": {},
   "outputs": [
    {
     "name": "stdout",
     "output_type": "stream",
     "text": [
      "[[1522   55]\n",
      " [  12 1168]]\n"
     ]
    }
   ],
   "source": [
    "print(confusion_matrix(y_test, y_pred))"
   ]
  },
  {
   "cell_type": "code",
   "execution_count": 59,
   "id": "e634da73",
   "metadata": {
    "scrolled": true
   },
   "outputs": [
    {
     "data": {
      "text/plain": [
       "<sklearn.metrics._plot.confusion_matrix.ConfusionMatrixDisplay at 0x2a3537775b0>"
      ]
     },
     "execution_count": 59,
     "metadata": {},
     "output_type": "execute_result"
    },
    {
     "data": {
      "image/png": "[encoded data removed]",
      "text/plain": [
       "<Figure size 432x288 with 2 Axes>"
      ]
     },
     "metadata": {
      "needs_background": "light"
     },
     "output_type": "display_data"
    }
   ],
   "source": [
    "plot_confusion_matrix(model, X_test, y_test, labels = [0,1])"
   ]
  },
  {
   "cell_type": "markdown",
   "id": "4e9a83d3",
   "metadata": {},
   "source": [
    "### Random Forest Classifier"
   ]
  },
  {
   "cell_type": "code",
   "execution_count": 60,
   "id": "1df23d49",
   "metadata": {},
   "outputs": [],
   "source": [
    "from sklearn.ensemble import RandomForestClassifier"
   ]
  },
  {
   "cell_type": "code",
   "execution_count": 61,
   "id": "9b017881",
   "metadata": {
    "scrolled": true
   },
   "outputs": [],
   "source": [
    "model = RandomForestClassifier()\n",
    "model.fit(X_train, y_train)\n",
    "y_pred = model.predict(X_test)"
   ]
  },
  {
   "cell_type": "code",
   "execution_count": 62,
   "id": "d0f4ad88",
   "metadata": {
    "scrolled": false
   },
   "outputs": [
    {
     "name": "stdout",
     "output_type": "stream",
     "text": [
      "              precision    recall  f1-score   support\n",
      "\n",
      "           0       0.99      0.99      0.99      1577\n",
      "           1       0.98      0.99      0.99      1180\n",
      "\n",
      "    accuracy                           0.99      2757\n",
      "   macro avg       0.99      0.99      0.99      2757\n",
      "weighted avg       0.99      0.99      0.99      2757\n",
      "\n"
     ]
    }
   ],
   "source": [
    "print(classification_report(y_test, y_pred))"
   ]
  },
  {
   "cell_type": "code",
   "execution_count": 63,
   "id": "deeba71b",
   "metadata": {},
   "outputs": [
    {
     "data": {
      "text/plain": [
       "0.988135593220339"
      ]
     },
     "execution_count": 63,
     "metadata": {},
     "output_type": "execute_result"
    }
   ],
   "source": [
    "RFC_score = recall_score(y_test, y_pred)\n",
    "RFC_score"
   ]
  },
  {
   "cell_type": "code",
   "execution_count": 64,
   "id": "1a77a9b7",
   "metadata": {
    "scrolled": true
   },
   "outputs": [
    {
     "name": "stdout",
     "output_type": "stream",
     "text": [
      "[[1556   21]\n",
      " [  14 1166]]\n"
     ]
    }
   ],
   "source": [
    "print(confusion_matrix(y_test, y_pred))"
   ]
  },
  {
   "cell_type": "code",
   "execution_count": 65,
   "id": "50840f70",
   "metadata": {},
   "outputs": [
    {
     "data": {
      "text/plain": [
       "<sklearn.metrics._plot.confusion_matrix.ConfusionMatrixDisplay at 0x2a353836a30>"
      ]
     },
     "execution_count": 65,
     "metadata": {},
     "output_type": "execute_result"
    },
    {
     "data": {
      "image/png": "[encoded data removed]",
      "text/plain": [
       "<Figure size 432x288 with 2 Axes>"
      ]
     },
     "metadata": {
      "needs_background": "light"
     },
     "output_type": "display_data"
    }
   ],
   "source": [
    "plot_confusion_matrix(model, X_test, y_test, labels = [0,1])"
   ]
  },
  {
   "cell_type": "markdown",
   "id": "cd384f2a",
   "metadata": {},
   "source": [
    "### K nearest neighbors"
   ]
  },
  {
   "cell_type": "code",
   "execution_count": 66,
   "id": "b49a9c22",
   "metadata": {},
   "outputs": [],
   "source": [
    "from sklearn.neighbors import KNeighborsClassifier"
   ]
  },
  {
   "cell_type": "code",
   "execution_count": 94,
   "id": "89313783",
   "metadata": {},
   "outputs": [],
   "source": [
    "model = KNeighborsClassifier()\n",
    "model.fit(X_train, y_train)\n",
    "y_pred = model.predict(X_test)"
   ]
  },
  {
   "cell_type": "code",
   "execution_count": 95,
   "id": "c6dff6ae",
   "metadata": {
    "scrolled": false
   },
   "outputs": [
    {
     "name": "stdout",
     "output_type": "stream",
     "text": [
      "              precision    recall  f1-score   support\n",
      "\n",
      "           0       0.97      0.90      0.93      1577\n",
      "           1       0.88      0.96      0.92      1180\n",
      "\n",
      "    accuracy                           0.93      2757\n",
      "   macro avg       0.92      0.93      0.93      2757\n",
      "weighted avg       0.93      0.93      0.93      2757\n",
      "\n"
     ]
    }
   ],
   "source": [
    "print(classification_report(y_test, y_pred))"
   ]
  },
  {
   "cell_type": "code",
   "execution_count": 96,
   "id": "b9c34346",
   "metadata": {},
   "outputs": [
    {
     "data": {
      "text/plain": [
       "0.9610169491525423"
      ]
     },
     "execution_count": 96,
     "metadata": {},
     "output_type": "execute_result"
    }
   ],
   "source": [
    "KNN_score = recall_score(y_test, y_pred)\n",
    "KNN_score"
   ]
  },
  {
   "cell_type": "code",
   "execution_count": 97,
   "id": "a0a7b367",
   "metadata": {
    "scrolled": true
   },
   "outputs": [
    {
     "name": "stdout",
     "output_type": "stream",
     "text": [
      "[[1421  156]\n",
      " [  46 1134]]\n"
     ]
    }
   ],
   "source": [
    "print(confusion_matrix(y_test, y_pred))"
   ]
  },
  {
   "cell_type": "code",
   "execution_count": 98,
   "id": "79c1fd0e",
   "metadata": {},
   "outputs": [
    {
     "data": {
      "text/plain": [
       "<sklearn.metrics._plot.confusion_matrix.ConfusionMatrixDisplay at 0x2a35376f880>"
      ]
     },
     "execution_count": 98,
     "metadata": {},
     "output_type": "execute_result"
    },
    {
     "data": {
      "image/png": "[encoded data removed]",
      "text/plain": [
       "<Figure size 432x288 with 2 Axes>"
      ]
     },
     "metadata": {
      "needs_background": "light"
     },
     "output_type": "display_data"
    }
   ],
   "source": [
    "plot_confusion_matrix(model, X_test, y_test, labels = [0,1])"
   ]
  },
  {
   "cell_type": "markdown",
   "id": "ee9f83e8",
   "metadata": {},
   "source": [
    "### Logistic Regression"
   ]
  },
  {
   "cell_type": "code",
   "execution_count": 72,
   "id": "40b377e4",
   "metadata": {},
   "outputs": [],
   "source": [
    "from sklearn.linear_model import LogisticRegression"
   ]
  },
  {
   "cell_type": "code",
   "execution_count": 73,
   "id": "baeadfb7",
   "metadata": {},
   "outputs": [],
   "source": [
    "model = LogisticRegression()\n",
    "model.fit(X_train, y_train)\n",
    "y_pred = model.predict(X_test)"
   ]
  },
  {
   "cell_type": "code",
   "execution_count": 74,
   "id": "7d3e609d",
   "metadata": {
    "scrolled": false
   },
   "outputs": [
    {
     "name": "stdout",
     "output_type": "stream",
     "text": [
      "              precision    recall  f1-score   support\n",
      "\n",
      "           0       0.77      0.78      0.78      1577\n",
      "           1       0.71      0.70      0.70      1180\n",
      "\n",
      "    accuracy                           0.75      2757\n",
      "   macro avg       0.74      0.74      0.74      2757\n",
      "weighted avg       0.75      0.75      0.75      2757\n",
      "\n"
     ]
    }
   ],
   "source": [
    "print(classification_report(y_test, y_pred))"
   ]
  },
  {
   "cell_type": "code",
   "execution_count": 75,
   "id": "83770a3a",
   "metadata": {},
   "outputs": [
    {
     "data": {
      "text/plain": [
       "0.6957627118644067"
      ]
     },
     "execution_count": 75,
     "metadata": {},
     "output_type": "execute_result"
    }
   ],
   "source": [
    "LR_score = recall_score(y_test, y_pred)\n",
    "LR_score"
   ]
  },
  {
   "cell_type": "code",
   "execution_count": 76,
   "id": "c319ea75",
   "metadata": {
    "scrolled": false
   },
   "outputs": [
    {
     "name": "stdout",
     "output_type": "stream",
     "text": [
      "[[1236  341]\n",
      " [ 359  821]]\n"
     ]
    }
   ],
   "source": [
    "print(confusion_matrix(y_test, y_pred))"
   ]
  },
  {
   "cell_type": "code",
   "execution_count": 77,
   "id": "09ef71cc",
   "metadata": {},
   "outputs": [
    {
     "data": {
      "text/plain": [
       "<sklearn.metrics._plot.confusion_matrix.ConfusionMatrixDisplay at 0x2a3000706a0>"
      ]
     },
     "execution_count": 77,
     "metadata": {},
     "output_type": "execute_result"
    },
    {
     "data": {
      "image/png": "[encoded data removed]",
      "text/plain": [
       "<Figure size 432x288 with 2 Axes>"
      ]
     },
     "metadata": {
      "needs_background": "light"
     },
     "output_type": "display_data"
    }
   ],
   "source": [
    "plot_confusion_matrix(model, X_test, y_test, labels = [0,1])"
   ]
  },
  {
   "cell_type": "markdown",
   "id": "22d2d4c6",
   "metadata": {},
   "source": [
    "### Support Vector Classifier"
   ]
  },
  {
   "cell_type": "code",
   "execution_count": 78,
   "id": "5ed69c67",
   "metadata": {},
   "outputs": [],
   "source": [
    "from sklearn.svm import SVC"
   ]
  },
  {
   "cell_type": "code",
   "execution_count": 80,
   "id": "607e6bb7",
   "metadata": {},
   "outputs": [],
   "source": [
    "model = SVC()\n",
    "model.fit(X_train, y_train)\n",
    "y_pred = model.predict(X_test)"
   ]
  },
  {
   "cell_type": "code",
   "execution_count": 81,
   "id": "d5f81007",
   "metadata": {
    "scrolled": true
   },
   "outputs": [
    {
     "name": "stdout",
     "output_type": "stream",
     "text": [
      "              precision    recall  f1-score   support\n",
      "\n",
      "           0       0.92      0.88      0.90      1577\n",
      "           1       0.85      0.90      0.87      1180\n",
      "\n",
      "    accuracy                           0.89      2757\n",
      "   macro avg       0.89      0.89      0.89      2757\n",
      "weighted avg       0.89      0.89      0.89      2757\n",
      "\n"
     ]
    }
   ],
   "source": [
    "print(classification_report(y_test, y_pred))"
   ]
  },
  {
   "cell_type": "code",
   "execution_count": 82,
   "id": "1abea2fe",
   "metadata": {},
   "outputs": [
    {
     "data": {
      "text/plain": [
       "0.8983050847457628"
      ]
     },
     "execution_count": 82,
     "metadata": {},
     "output_type": "execute_result"
    }
   ],
   "source": [
    "SVC_score = recall_score(y_test, y_pred)\n",
    "SVC_score"
   ]
  },
  {
   "cell_type": "code",
   "execution_count": 83,
   "id": "81345f65",
   "metadata": {
    "scrolled": false
   },
   "outputs": [
    {
     "name": "stdout",
     "output_type": "stream",
     "text": [
      "[[1393  184]\n",
      " [ 120 1060]]\n"
     ]
    }
   ],
   "source": [
    "print(confusion_matrix(y_test, y_pred))"
   ]
  },
  {
   "cell_type": "code",
   "execution_count": 84,
   "id": "1c91f276",
   "metadata": {
    "scrolled": true
   },
   "outputs": [
    {
     "data": {
      "text/plain": [
       "<sklearn.metrics._plot.confusion_matrix.ConfusionMatrixDisplay at 0x2a300086c40>"
      ]
     },
     "execution_count": 84,
     "metadata": {},
     "output_type": "execute_result"
    },
    {
     "data": {
      "image/png": "[encoded data removed]",
      "text/plain": [
       "<Figure size 432x288 with 2 Axes>"
      ]
     },
     "metadata": {
      "needs_background": "light"
     },
     "output_type": "display_data"
    }
   ],
   "source": [
    "plot_confusion_matrix(model, X_test, y_test, labels = [0,1])"
   ]
  },
  {
   "cell_type": "markdown",
   "id": "64676741",
   "metadata": {},
   "source": [
    "### Gradient Boosting Tree"
   ]
  },
  {
   "cell_type": "code",
   "execution_count": 87,
   "id": "888d49a1",
   "metadata": {},
   "outputs": [],
   "source": [
    "from sklearn.ensemble import GradientBoostingClassifier"
   ]
  },
  {
   "cell_type": "code",
   "execution_count": 88,
   "id": "0910d991",
   "metadata": {},
   "outputs": [],
   "source": [
    "model = GradientBoostingClassifier()\n",
    "model.fit(X_train, y_train)\n",
    "y_pred = model.predict(X_test)"
   ]
  },
  {
   "cell_type": "code",
   "execution_count": 89,
   "id": "fee521a0",
   "metadata": {
    "scrolled": false
   },
   "outputs": [
    {
     "name": "stdout",
     "output_type": "stream",
     "text": [
      "              precision    recall  f1-score   support\n",
      "\n",
      "           0       0.95      0.97      0.96      1577\n",
      "           1       0.96      0.93      0.94      1180\n",
      "\n",
      "    accuracy                           0.95      2757\n",
      "   macro avg       0.95      0.95      0.95      2757\n",
      "weighted avg       0.95      0.95      0.95      2757\n",
      "\n"
     ]
    }
   ],
   "source": [
    "print(classification_report(y_test, y_pred))"
   ]
  },
  {
   "cell_type": "code",
   "execution_count": 90,
   "id": "db57e7d7",
   "metadata": {},
   "outputs": [
    {
     "data": {
      "text/plain": [
       "0.9279661016949152"
      ]
     },
     "execution_count": 90,
     "metadata": {},
     "output_type": "execute_result"
    }
   ],
   "source": [
    "GBT_score = recall_score(y_test, y_pred)\n",
    "GBT_score"
   ]
  },
  {
   "cell_type": "code",
   "execution_count": 91,
   "id": "308be55b",
   "metadata": {
    "scrolled": true
   },
   "outputs": [
    {
     "name": "stdout",
     "output_type": "stream",
     "text": [
      "[[1534   43]\n",
      " [  85 1095]]\n"
     ]
    }
   ],
   "source": [
    "print(confusion_matrix(y_test, y_pred))"
   ]
  },
  {
   "cell_type": "code",
   "execution_count": 92,
   "id": "152f8db1",
   "metadata": {
    "scrolled": true
   },
   "outputs": [
    {
     "data": {
      "text/plain": [
       "<sklearn.metrics._plot.confusion_matrix.ConfusionMatrixDisplay at 0x2a3500dc040>"
      ]
     },
     "execution_count": 92,
     "metadata": {},
     "output_type": "execute_result"
    },
    {
     "data": {
      "image/png": "[encoded data removed]",
      "text/plain": [
       "<Figure size 432x288 with 2 Axes>"
      ]
     },
     "metadata": {
      "needs_background": "light"
     },
     "output_type": "display_data"
    }
   ],
   "source": [
    "plot_confusion_matrix(model, X_test, y_test, labels = [0,1])"
   ]
  },
  {
   "cell_type": "markdown",
   "id": "26040ef8",
   "metadata": {},
   "source": [
    "### Model Evaluation"
   ]
  },
  {
   "cell_type": "code",
   "execution_count": 99,
   "id": "59876225",
   "metadata": {},
   "outputs": [
    {
     "data": {
      "image/png": "[encoded data removed]",
      "text/plain": [
       "<Figure size 432x288 with 1 Axes>"
      ]
     },
     "metadata": {
      "needs_background": "light"
     },
     "output_type": "display_data"
    }
   ],
   "source": [
    "scores = [DTC_score, RFC_score, KNN_score, LR_score, SVC_score, GBT_score]\n",
    "plt.bar(['DTC_score', 'RFC_score', 'KNN_score', 'LR_score', 'SVC_score', 'GBT_score'],scores)\n",
    "plt.ylim(0.60,1.01)\n",
    "plt.tight_layout()"
   ]
  },
  {
   "cell_type": "code",
   "execution_count": 100,
   "id": "bacea255",
   "metadata": {},
   "outputs": [],
   "source": [
    "# Dari keenam model, yang memberikan hasil kurang baik adalah model Logistic Regression\n",
    "# akan dilakukan tuning parameters untuk meningkatkan akurasi dengan menggunakan RandomizedSearchCV\n",
    "# tuning parameters dilakukan untuk semua model kecuali logistic regression karena memberikan hasil yang kurang baik\n",
    "\n",
    "from sklearn.model_selection import RandomizedSearchCV"
   ]
  },
  {
   "cell_type": "code",
   "execution_count": 101,
   "id": "1917504c",
   "metadata": {},
   "outputs": [],
   "source": [
    "model_params = {\n",
    "    'decision_tree': {\n",
    "        'model': DecisionTreeClassifier(),\n",
    "        'params' : {\n",
    "            'criterion' : ['gini', 'entropy'],\n",
    "            'max_depth' : [None, 10, 20, 30, 40, 50, 60, 70, 80, 90, 100],\n",
    "            'min_samples_split' : [2, 3, 4],\n",
    "            'min_samples_leaf' : [1, 2, 3],\n",
    "            'max_features' : ['sqrt', 'log2', None]\n",
    "        }\n",
    "    },\n",
    "    'random_forest': {\n",
    "        'model': RandomForestClassifier(),\n",
    "        'params' : {\n",
    "            'n_estimators': [int(x) for x in np.linspace(start = 100, stop = 500, num = 9)],\n",
    "            'criterion' : ['gini', 'entropy'],\n",
    "            'max_depth' : [None, 10, 20, 30, 40, 50, 60, 70, 80, 90, 100],\n",
    "            'min_samples_split' : [2, 3, 4],\n",
    "            'min_samples_leaf' : [1, 2, 3],\n",
    "            'max_features' : ['sqrt', 'log2', None]\n",
    "        }\n",
    "    },    \n",
    "    'k_nearest_neighbors': {\n",
    "        'model' : KNeighborsClassifier(),\n",
    "        'params' : {\n",
    "            'n_neighbors' : [int(x) for x in np.linspace(1, 10, num = 10)],\n",
    "            'leaf_size' : [30, 40, 50],\n",
    "            'p' : [1, 2, 3]\n",
    "        }\n",
    "    },\n",
    "    'svc' : {\n",
    "        'model' : SVC(),\n",
    "        'params' : {\n",
    "            'C' : [1, 11, 21, 31, 41],\n",
    "            'kernel' : ['linear', 'poly', 'rbf', 'sigmoid'],\n",
    "            'gamma' : ['scale', 'auto']\n",
    "        }\n",
    "    },\n",
    "    'gradient_boosting_classifier' : {\n",
    "        'model' : GradientBoostingClassifier(),\n",
    "        'params' : {\n",
    "            'loss' : ['deviance', 'exponential'],\n",
    "            'learning_rate' : [0.3, 0.4, 0.5, 0.6, 0.7],\n",
    "            'n_estimators': [int(x) for x in np.linspace(start = 100, stop = 500, num = 9)],\n",
    "            'subsample' : [0.1, 0.2, 0.3],\n",
    "            'min_samples_split' : [2, 3, 4],\n",
    "            'min_samples_leaf' : [1, 2, 3],\n",
    "            'max_depth' : [None, 10, 20, 30, 40, 50, 60, 70, 80, 90, 100],\n",
    "            'max_features' : ['sqrt', 'log2', None]\n",
    "        }\n",
    "    }\n",
    "}"
   ]
  },
  {
   "cell_type": "code",
   "execution_count": 102,
   "id": "9a7c37f9",
   "metadata": {
    "scrolled": false
   },
   "outputs": [],
   "source": [
    "scores = []\n",
    "\n",
    "for model_name, mp in model_params.items():\n",
    "    search =  RandomizedSearchCV(mp['model'], mp['params'], cv=5, return_train_score = False, scoring = 'recall')\n",
    "    search.fit(X_scaled, y)\n",
    "    scores.append({\n",
    "        'model': model_name,\n",
    "        'best_score': search.best_score_,\n",
    "        'best_params': search.best_params_\n",
    "    })"
   ]
  },
  {
   "cell_type": "code",
   "execution_count": 103,
   "id": "e8dad261",
   "metadata": {},
   "outputs": [
    {
     "data": {
      "text/plain": [
       "[{'model': 'decision_tree',\n",
       "  'best_score': 0.9921632653061223,\n",
       "  'best_params': {'min_samples_split': 2,\n",
       "   'min_samples_leaf': 1,\n",
       "   'max_features': 'log2',\n",
       "   'max_depth': None,\n",
       "   'criterion': 'gini'}},\n",
       " {'model': 'random_forest',\n",
       "  'best_score': 0.9946122448979592,\n",
       "  'best_params': {'n_estimators': 200,\n",
       "   'min_samples_split': 2,\n",
       "   'min_samples_leaf': 1,\n",
       "   'max_features': 'log2',\n",
       "   'max_depth': 60,\n",
       "   'criterion': 'entropy'}},\n",
       " {'model': 'k_nearest_neighbors',\n",
       "  'best_score': 0.9777959183673468,\n",
       "  'best_params': {'p': 1, 'n_neighbors': 3, 'leaf_size': 40}},\n",
       " {'model': 'svc',\n",
       "  'best_score': 0.9288163265306123,\n",
       "  'best_params': {'kernel': 'poly', 'gamma': 'scale', 'C': 41}},\n",
       " {'model': 'gradient_boosting_classifier',\n",
       "  'best_score': 0.9836734693877551,\n",
       "  'best_params': {'subsample': 0.2,\n",
       "   'n_estimators': 400,\n",
       "   'min_samples_split': 2,\n",
       "   'min_samples_leaf': 3,\n",
       "   'max_features': None,\n",
       "   'max_depth': 60,\n",
       "   'loss': 'exponential',\n",
       "   'learning_rate': 0.7}}]"
      ]
     },
     "execution_count": 103,
     "metadata": {},
     "output_type": "execute_result"
    }
   ],
   "source": [
    "scores"
   ]
  },
  {
   "cell_type": "code",
   "execution_count": 114,
   "id": "7ad1d9f7",
   "metadata": {
    "scrolled": true
   },
   "outputs": [
    {
     "name": "stdout",
     "output_type": "stream",
     "text": [
      "[0.98222706 0.98911861 0.99129173 0.9894775  0.99129173]\n"
     ]
    }
   ],
   "source": [
    "# pengecekan apakah terjadi overfitting atau tidak\n",
    "model = RandomForestClassifier(n_estimators = 200,\n",
    "                               min_samples_split = 2,\n",
    "                               min_samples_leaf = 1,\n",
    "                               max_features = 'log2',\n",
    "                               max_depth = 60,\n",
    "                               criterion = 'entropy')\n",
    "\n",
    "from sklearn.model_selection import cross_validate\n",
    "cv = cross_validate(model, X_scaled, y, cv=5)\n",
    "print(cv['test_score'])"
   ]
  },
  {
   "cell_type": "code",
   "execution_count": 122,
   "id": "b553a7d9",
   "metadata": {},
   "outputs": [],
   "source": [
    "model.fit(X_train, y_train)\n",
    "y_pred = model.predict(X_test)"
   ]
  },
  {
   "cell_type": "code",
   "execution_count": 123,
   "id": "c6a5dd63",
   "metadata": {
    "scrolled": true
   },
   "outputs": [
    {
     "name": "stdout",
     "output_type": "stream",
     "text": [
      "              precision    recall  f1-score   support\n",
      "\n",
      "           0       0.99      0.99      0.99      1577\n",
      "           1       0.98      0.99      0.99      1180\n",
      "\n",
      "    accuracy                           0.99      2757\n",
      "   macro avg       0.99      0.99      0.99      2757\n",
      "weighted avg       0.99      0.99      0.99      2757\n",
      "\n"
     ]
    }
   ],
   "source": [
    "print(classification_report(y_test, y_pred))"
   ]
  },
  {
   "cell_type": "code",
   "execution_count": 155,
   "id": "39c094ab",
   "metadata": {},
   "outputs": [
    {
     "name": "stdout",
     "output_type": "stream",
     "text": [
      "0.9898305084745763\n"
     ]
    }
   ],
   "source": [
    "print(recall_score(y_test, y_pred))"
   ]
  },
  {
   "cell_type": "code",
   "execution_count": 124,
   "id": "50a2b1d4",
   "metadata": {},
   "outputs": [
    {
     "name": "stdout",
     "output_type": "stream",
     "text": [
      "[[1554   23]\n",
      " [  12 1168]]\n"
     ]
    }
   ],
   "source": [
    "print(confusion_matrix(y_test, y_pred))"
   ]
  },
  {
   "cell_type": "code",
   "execution_count": 125,
   "id": "b6bc70fc",
   "metadata": {
    "scrolled": true
   },
   "outputs": [
    {
     "data": {
      "text/plain": [
       "<sklearn.metrics._plot.confusion_matrix.ConfusionMatrixDisplay at 0x2a30c5516a0>"
      ]
     },
     "execution_count": 125,
     "metadata": {},
     "output_type": "execute_result"
    },
    {
     "data": {
      "image/png": "[encoded data removed]",
      "text/plain": [
       "<Figure size 432x288 with 2 Axes>"
      ]
     },
     "metadata": {
      "needs_background": "light"
     },
     "output_type": "display_data"
    }
   ],
   "source": [
    "plot_confusion_matrix(model, X_test, y_test, labels = [0,1])"
   ]
  },
  {
   "cell_type": "markdown",
   "id": "a7d4ece1",
   "metadata": {},
   "source": [
    "# 7. Target Prediction"
   ]
  },
  {
   "cell_type": "code",
   "execution_count": 126,
   "id": "077572d2",
   "metadata": {
    "scrolled": true
   },
   "outputs": [
    {
     "data": {
      "text/html": [
       "<div>\n",
       "<style scoped>\n",
       "    .dataframe tbody tr th:only-of-type {\n",
       "        vertical-align: middle;\n",
       "    }\n",
       "\n",
       "    .dataframe tbody tr th {\n",
       "        vertical-align: top;\n",
       "    }\n",
       "\n",
       "    .dataframe thead th {\n",
       "        text-align: right;\n",
       "    }\n",
       "</style>\n",
       "<table border=\"1\" class=\"dataframe\">\n",
       "  <thead>\n",
       "    <tr style=\"text-align: right;\">\n",
       "      <th></th>\n",
       "      <th>employee_id</th>\n",
       "      <th>umur</th>\n",
       "      <th>jenis_kelamin</th>\n",
       "      <th>IPK</th>\n",
       "      <th>level</th>\n",
       "      <th>tahun_lulus</th>\n",
       "      <th>status_perkawinan</th>\n",
       "      <th>divisi</th>\n",
       "      <th>rerata_jam_bulanan</th>\n",
       "      <th>tingkat_kepuasan_bekerja</th>\n",
       "      <th>nilai_evaluasi_terakhir</th>\n",
       "      <th>jumlah_proyek_yang_dikerjakan</th>\n",
       "      <th>lama_di_perusahaan</th>\n",
       "      <th>kecelakaan_kerja</th>\n",
       "      <th>promosi_5thn_lalu</th>\n",
       "      <th>tingkat_gaji</th>\n",
       "    </tr>\n",
       "  </thead>\n",
       "  <tbody>\n",
       "    <tr>\n",
       "      <th>0</th>\n",
       "      <td>20049</td>\n",
       "      <td>NaN</td>\n",
       "      <td>Laki-laki</td>\n",
       "      <td>2.119406</td>\n",
       "      <td>Senior</td>\n",
       "      <td>NaN</td>\n",
       "      <td>Belum Menikah</td>\n",
       "      <td>technical</td>\n",
       "      <td>137.0</td>\n",
       "      <td>0.38</td>\n",
       "      <td>0.372242</td>\n",
       "      <td>2</td>\n",
       "      <td>36 Months</td>\n",
       "      <td>belum pernah</td>\n",
       "      <td>belum</td>\n",
       "      <td>rendah</td>\n",
       "    </tr>\n",
       "    <tr>\n",
       "      <th>1</th>\n",
       "      <td>20050</td>\n",
       "      <td>31.0</td>\n",
       "      <td>Laki-laki</td>\n",
       "      <td>2.554876</td>\n",
       "      <td>Part-Time</td>\n",
       "      <td>NaN</td>\n",
       "      <td>Sudah Menikah</td>\n",
       "      <td>sales</td>\n",
       "      <td>258.0</td>\n",
       "      <td>0.85</td>\n",
       "      <td>0.334727</td>\n",
       "      <td>3</td>\n",
       "      <td>3 Years</td>\n",
       "      <td>belum pernah</td>\n",
       "      <td>belum</td>\n",
       "      <td>sedang</td>\n",
       "    </tr>\n",
       "    <tr>\n",
       "      <th>2</th>\n",
       "      <td>20051</td>\n",
       "      <td>NaN</td>\n",
       "      <td>Laki-laki</td>\n",
       "      <td>1.151644</td>\n",
       "      <td>Probation</td>\n",
       "      <td>NaN</td>\n",
       "      <td>Sudah Menikah</td>\n",
       "      <td>marketing</td>\n",
       "      <td>257.0</td>\n",
       "      <td>0.91</td>\n",
       "      <td>0.459594</td>\n",
       "      <td>3</td>\n",
       "      <td>36 Months</td>\n",
       "      <td>belum pernah</td>\n",
       "      <td>belum</td>\n",
       "      <td>sedang</td>\n",
       "    </tr>\n",
       "    <tr>\n",
       "      <th>3</th>\n",
       "      <td>20052</td>\n",
       "      <td>NaN</td>\n",
       "      <td>Perempuan</td>\n",
       "      <td>1.963498</td>\n",
       "      <td>Senior</td>\n",
       "      <td>NaN</td>\n",
       "      <td>Belum Menikah</td>\n",
       "      <td>sales</td>\n",
       "      <td>142.0</td>\n",
       "      <td>0.42</td>\n",
       "      <td>0.370912</td>\n",
       "      <td>2</td>\n",
       "      <td>3 Years</td>\n",
       "      <td>belum pernah</td>\n",
       "      <td>belum</td>\n",
       "      <td>rendah</td>\n",
       "    </tr>\n",
       "    <tr>\n",
       "      <th>4</th>\n",
       "      <td>20053</td>\n",
       "      <td>NaN</td>\n",
       "      <td>Perempuan</td>\n",
       "      <td>1.666068</td>\n",
       "      <td>Junior</td>\n",
       "      <td>2007.0</td>\n",
       "      <td>Belum Menikah</td>\n",
       "      <td>sales</td>\n",
       "      <td>272.0</td>\n",
       "      <td>0.93</td>\n",
       "      <td>0.563354</td>\n",
       "      <td>3</td>\n",
       "      <td>2 Years</td>\n",
       "      <td>pernah</td>\n",
       "      <td>belum</td>\n",
       "      <td>rendah</td>\n",
       "    </tr>\n",
       "  </tbody>\n",
       "</table>\n",
       "</div>"
      ],
      "text/plain": [
       "   employee_id  umur jenis_kelamin       IPK      level  tahun_lulus  \\\n",
       "0        20049   NaN     Laki-laki  2.119406     Senior          NaN   \n",
       "1        20050  31.0     Laki-laki  2.554876  Part-Time          NaN   \n",
       "2        20051   NaN     Laki-laki  1.151644  Probation          NaN   \n",
       "3        20052   NaN     Perempuan  1.963498     Senior          NaN   \n",
       "4        20053   NaN     Perempuan  1.666068     Junior       2007.0   \n",
       "\n",
       "  status_perkawinan     divisi  rerata_jam_bulanan  tingkat_kepuasan_bekerja  \\\n",
       "0     Belum Menikah  technical               137.0                      0.38   \n",
       "1     Sudah Menikah      sales               258.0                      0.85   \n",
       "2     Sudah Menikah  marketing               257.0                      0.91   \n",
       "3     Belum Menikah      sales               142.0                      0.42   \n",
       "4     Belum Menikah      sales               272.0                      0.93   \n",
       "\n",
       "   nilai_evaluasi_terakhir  jumlah_proyek_yang_dikerjakan lama_di_perusahaan  \\\n",
       "0                 0.372242                              2          36 Months   \n",
       "1                 0.334727                              3            3 Years   \n",
       "2                 0.459594                              3          36 Months   \n",
       "3                 0.370912                              2            3 Years   \n",
       "4                 0.563354                              3            2 Years   \n",
       "\n",
       "  kecelakaan_kerja promosi_5thn_lalu tingkat_gaji  \n",
       "0     belum pernah             belum       rendah  \n",
       "1     belum pernah             belum       sedang  \n",
       "2     belum pernah             belum       sedang  \n",
       "3     belum pernah             belum       rendah  \n",
       "4           pernah             belum       rendah  "
      ]
     },
     "execution_count": 126,
     "metadata": {},
     "output_type": "execute_result"
    }
   ],
   "source": [
    "df_test = pd.read_csv('../Data/test.csv')\n",
    "df_test.head()"
   ]
  },
  {
   "cell_type": "code",
   "execution_count": 127,
   "id": "9db3c541",
   "metadata": {},
   "outputs": [
    {
     "data": {
      "text/plain": [
       "(4950, 16)"
      ]
     },
     "execution_count": 127,
     "metadata": {},
     "output_type": "execute_result"
    }
   ],
   "source": [
    "df_test.shape"
   ]
  },
  {
   "cell_type": "code",
   "execution_count": 128,
   "id": "f7370823",
   "metadata": {
    "scrolled": true
   },
   "outputs": [
    {
     "data": {
      "text/plain": [
       "employee_id                         0\n",
       "umur                             3880\n",
       "jenis_kelamin                       0\n",
       "IPK                                 0\n",
       "level                               0\n",
       "tahun_lulus                      3799\n",
       "status_perkawinan                   0\n",
       "divisi                              0\n",
       "rerata_jam_bulanan                588\n",
       "tingkat_kepuasan_bekerja          466\n",
       "nilai_evaluasi_terakhir           856\n",
       "jumlah_proyek_yang_dikerjakan       0\n",
       "lama_di_perusahaan                  0\n",
       "kecelakaan_kerja                    0\n",
       "promosi_5thn_lalu                   0\n",
       "tingkat_gaji                        0\n",
       "dtype: int64"
      ]
     },
     "execution_count": 128,
     "metadata": {},
     "output_type": "execute_result"
    }
   ],
   "source": [
    "df_test.isnull().sum()"
   ]
  },
  {
   "cell_type": "code",
   "execution_count": 129,
   "id": "29c55d17",
   "metadata": {
    "scrolled": true
   },
   "outputs": [],
   "source": [
    "lama_di_perusahaan_test = df_test['lama_di_perusahaan'].apply(lambda x:convert_lama_di_perusahaan(x))"
   ]
  },
  {
   "cell_type": "code",
   "execution_count": 130,
   "id": "7ce24de1",
   "metadata": {},
   "outputs": [],
   "source": [
    "df_test.drop(columns = 'lama_di_perusahaan', inplace = True)"
   ]
  },
  {
   "cell_type": "code",
   "execution_count": 131,
   "id": "d2790ff6",
   "metadata": {},
   "outputs": [
    {
     "data": {
      "text/html": [
       "<div>\n",
       "<style scoped>\n",
       "    .dataframe tbody tr th:only-of-type {\n",
       "        vertical-align: middle;\n",
       "    }\n",
       "\n",
       "    .dataframe tbody tr th {\n",
       "        vertical-align: top;\n",
       "    }\n",
       "\n",
       "    .dataframe thead th {\n",
       "        text-align: right;\n",
       "    }\n",
       "</style>\n",
       "<table border=\"1\" class=\"dataframe\">\n",
       "  <thead>\n",
       "    <tr style=\"text-align: right;\">\n",
       "      <th></th>\n",
       "      <th>employee_id</th>\n",
       "      <th>umur</th>\n",
       "      <th>jenis_kelamin</th>\n",
       "      <th>IPK</th>\n",
       "      <th>level</th>\n",
       "      <th>tahun_lulus</th>\n",
       "      <th>status_perkawinan</th>\n",
       "      <th>divisi</th>\n",
       "      <th>rerata_jam_bulanan</th>\n",
       "      <th>tingkat_kepuasan_bekerja</th>\n",
       "      <th>nilai_evaluasi_terakhir</th>\n",
       "      <th>jumlah_proyek_yang_dikerjakan</th>\n",
       "      <th>kecelakaan_kerja</th>\n",
       "      <th>promosi_5thn_lalu</th>\n",
       "      <th>tingkat_gaji</th>\n",
       "      <th>lama_di_perusahaan</th>\n",
       "    </tr>\n",
       "  </thead>\n",
       "  <tbody>\n",
       "    <tr>\n",
       "      <th>0</th>\n",
       "      <td>20049</td>\n",
       "      <td>NaN</td>\n",
       "      <td>Laki-laki</td>\n",
       "      <td>2.119406</td>\n",
       "      <td>Senior</td>\n",
       "      <td>NaN</td>\n",
       "      <td>Belum Menikah</td>\n",
       "      <td>technical</td>\n",
       "      <td>137.0</td>\n",
       "      <td>0.38</td>\n",
       "      <td>0.372242</td>\n",
       "      <td>2</td>\n",
       "      <td>belum pernah</td>\n",
       "      <td>belum</td>\n",
       "      <td>rendah</td>\n",
       "      <td>36</td>\n",
       "    </tr>\n",
       "    <tr>\n",
       "      <th>1</th>\n",
       "      <td>20050</td>\n",
       "      <td>31.0</td>\n",
       "      <td>Laki-laki</td>\n",
       "      <td>2.554876</td>\n",
       "      <td>Part-Time</td>\n",
       "      <td>NaN</td>\n",
       "      <td>Sudah Menikah</td>\n",
       "      <td>sales</td>\n",
       "      <td>258.0</td>\n",
       "      <td>0.85</td>\n",
       "      <td>0.334727</td>\n",
       "      <td>3</td>\n",
       "      <td>belum pernah</td>\n",
       "      <td>belum</td>\n",
       "      <td>sedang</td>\n",
       "      <td>36</td>\n",
       "    </tr>\n",
       "    <tr>\n",
       "      <th>2</th>\n",
       "      <td>20051</td>\n",
       "      <td>NaN</td>\n",
       "      <td>Laki-laki</td>\n",
       "      <td>1.151644</td>\n",
       "      <td>Probation</td>\n",
       "      <td>NaN</td>\n",
       "      <td>Sudah Menikah</td>\n",
       "      <td>marketing</td>\n",
       "      <td>257.0</td>\n",
       "      <td>0.91</td>\n",
       "      <td>0.459594</td>\n",
       "      <td>3</td>\n",
       "      <td>belum pernah</td>\n",
       "      <td>belum</td>\n",
       "      <td>sedang</td>\n",
       "      <td>36</td>\n",
       "    </tr>\n",
       "    <tr>\n",
       "      <th>3</th>\n",
       "      <td>20052</td>\n",
       "      <td>NaN</td>\n",
       "      <td>Perempuan</td>\n",
       "      <td>1.963498</td>\n",
       "      <td>Senior</td>\n",
       "      <td>NaN</td>\n",
       "      <td>Belum Menikah</td>\n",
       "      <td>sales</td>\n",
       "      <td>142.0</td>\n",
       "      <td>0.42</td>\n",
       "      <td>0.370912</td>\n",
       "      <td>2</td>\n",
       "      <td>belum pernah</td>\n",
       "      <td>belum</td>\n",
       "      <td>rendah</td>\n",
       "      <td>36</td>\n",
       "    </tr>\n",
       "    <tr>\n",
       "      <th>4</th>\n",
       "      <td>20053</td>\n",
       "      <td>NaN</td>\n",
       "      <td>Perempuan</td>\n",
       "      <td>1.666068</td>\n",
       "      <td>Junior</td>\n",
       "      <td>2007.0</td>\n",
       "      <td>Belum Menikah</td>\n",
       "      <td>sales</td>\n",
       "      <td>272.0</td>\n",
       "      <td>0.93</td>\n",
       "      <td>0.563354</td>\n",
       "      <td>3</td>\n",
       "      <td>pernah</td>\n",
       "      <td>belum</td>\n",
       "      <td>rendah</td>\n",
       "      <td>24</td>\n",
       "    </tr>\n",
       "  </tbody>\n",
       "</table>\n",
       "</div>"
      ],
      "text/plain": [
       "   employee_id  umur jenis_kelamin       IPK      level  tahun_lulus  \\\n",
       "0        20049   NaN     Laki-laki  2.119406     Senior          NaN   \n",
       "1        20050  31.0     Laki-laki  2.554876  Part-Time          NaN   \n",
       "2        20051   NaN     Laki-laki  1.151644  Probation          NaN   \n",
       "3        20052   NaN     Perempuan  1.963498     Senior          NaN   \n",
       "4        20053   NaN     Perempuan  1.666068     Junior       2007.0   \n",
       "\n",
       "  status_perkawinan     divisi  rerata_jam_bulanan  tingkat_kepuasan_bekerja  \\\n",
       "0     Belum Menikah  technical               137.0                      0.38   \n",
       "1     Sudah Menikah      sales               258.0                      0.85   \n",
       "2     Sudah Menikah  marketing               257.0                      0.91   \n",
       "3     Belum Menikah      sales               142.0                      0.42   \n",
       "4     Belum Menikah      sales               272.0                      0.93   \n",
       "\n",
       "   nilai_evaluasi_terakhir  jumlah_proyek_yang_dikerjakan kecelakaan_kerja  \\\n",
       "0                 0.372242                              2     belum pernah   \n",
       "1                 0.334727                              3     belum pernah   \n",
       "2                 0.459594                              3     belum pernah   \n",
       "3                 0.370912                              2     belum pernah   \n",
       "4                 0.563354                              3           pernah   \n",
       "\n",
       "  promosi_5thn_lalu tingkat_gaji  lama_di_perusahaan  \n",
       "0             belum       rendah                  36  \n",
       "1             belum       sedang                  36  \n",
       "2             belum       sedang                  36  \n",
       "3             belum       rendah                  36  \n",
       "4             belum       rendah                  24  "
      ]
     },
     "execution_count": 131,
     "metadata": {},
     "output_type": "execute_result"
    }
   ],
   "source": [
    "df_test = pd.concat([df_test, lama_di_perusahaan_test], axis = 1)\n",
    "df_test.head()"
   ]
  },
  {
   "cell_type": "code",
   "execution_count": 132,
   "id": "4e6b6eac",
   "metadata": {},
   "outputs": [],
   "source": [
    "df_test_cat = df_test[cat_fix]\n",
    "df_test_cat = pd.get_dummies(df_test_cat)\n",
    "\n",
    "df_test_num = df_test[num_fix]\n",
    "\n",
    "df_test_new = pd.concat([df_test_num, df_test_cat], axis = 1)"
   ]
  },
  {
   "cell_type": "code",
   "execution_count": 133,
   "id": "27aa03d8",
   "metadata": {
    "scrolled": false
   },
   "outputs": [
    {
     "data": {
      "text/html": [
       "<div>\n",
       "<style scoped>\n",
       "    .dataframe tbody tr th:only-of-type {\n",
       "        vertical-align: middle;\n",
       "    }\n",
       "\n",
       "    .dataframe tbody tr th {\n",
       "        vertical-align: top;\n",
       "    }\n",
       "\n",
       "    .dataframe thead th {\n",
       "        text-align: right;\n",
       "    }\n",
       "</style>\n",
       "<table border=\"1\" class=\"dataframe\">\n",
       "  <thead>\n",
       "    <tr style=\"text-align: right;\">\n",
       "      <th></th>\n",
       "      <th>rerata_jam_bulanan</th>\n",
       "      <th>tingkat_kepuasan_bekerja</th>\n",
       "      <th>jumlah_proyek_yang_dikerjakan</th>\n",
       "      <th>lama_di_perusahaan</th>\n",
       "      <th>divisi_IT</th>\n",
       "      <th>divisi_RandD</th>\n",
       "      <th>divisi_accounting</th>\n",
       "      <th>divisi_hr</th>\n",
       "      <th>divisi_management</th>\n",
       "      <th>divisi_marketing</th>\n",
       "      <th>...</th>\n",
       "      <th>divisi_sales</th>\n",
       "      <th>divisi_support</th>\n",
       "      <th>divisi_technical</th>\n",
       "      <th>kecelakaan_kerja_belum pernah</th>\n",
       "      <th>kecelakaan_kerja_pernah</th>\n",
       "      <th>promosi_5thn_lalu_belum</th>\n",
       "      <th>promosi_5thn_lalu_sudah</th>\n",
       "      <th>tingkat_gaji_rendah</th>\n",
       "      <th>tingkat_gaji_sedang</th>\n",
       "      <th>tingkat_gaji_tinggi</th>\n",
       "    </tr>\n",
       "  </thead>\n",
       "  <tbody>\n",
       "    <tr>\n",
       "      <th>0</th>\n",
       "      <td>137.0</td>\n",
       "      <td>0.38</td>\n",
       "      <td>2</td>\n",
       "      <td>36</td>\n",
       "      <td>0</td>\n",
       "      <td>0</td>\n",
       "      <td>0</td>\n",
       "      <td>0</td>\n",
       "      <td>0</td>\n",
       "      <td>0</td>\n",
       "      <td>...</td>\n",
       "      <td>0</td>\n",
       "      <td>0</td>\n",
       "      <td>1</td>\n",
       "      <td>1</td>\n",
       "      <td>0</td>\n",
       "      <td>1</td>\n",
       "      <td>0</td>\n",
       "      <td>1</td>\n",
       "      <td>0</td>\n",
       "      <td>0</td>\n",
       "    </tr>\n",
       "    <tr>\n",
       "      <th>1</th>\n",
       "      <td>258.0</td>\n",
       "      <td>0.85</td>\n",
       "      <td>3</td>\n",
       "      <td>36</td>\n",
       "      <td>0</td>\n",
       "      <td>0</td>\n",
       "      <td>0</td>\n",
       "      <td>0</td>\n",
       "      <td>0</td>\n",
       "      <td>0</td>\n",
       "      <td>...</td>\n",
       "      <td>1</td>\n",
       "      <td>0</td>\n",
       "      <td>0</td>\n",
       "      <td>1</td>\n",
       "      <td>0</td>\n",
       "      <td>1</td>\n",
       "      <td>0</td>\n",
       "      <td>0</td>\n",
       "      <td>1</td>\n",
       "      <td>0</td>\n",
       "    </tr>\n",
       "    <tr>\n",
       "      <th>2</th>\n",
       "      <td>257.0</td>\n",
       "      <td>0.91</td>\n",
       "      <td>3</td>\n",
       "      <td>36</td>\n",
       "      <td>0</td>\n",
       "      <td>0</td>\n",
       "      <td>0</td>\n",
       "      <td>0</td>\n",
       "      <td>0</td>\n",
       "      <td>1</td>\n",
       "      <td>...</td>\n",
       "      <td>0</td>\n",
       "      <td>0</td>\n",
       "      <td>0</td>\n",
       "      <td>1</td>\n",
       "      <td>0</td>\n",
       "      <td>1</td>\n",
       "      <td>0</td>\n",
       "      <td>0</td>\n",
       "      <td>1</td>\n",
       "      <td>0</td>\n",
       "    </tr>\n",
       "    <tr>\n",
       "      <th>3</th>\n",
       "      <td>142.0</td>\n",
       "      <td>0.42</td>\n",
       "      <td>2</td>\n",
       "      <td>36</td>\n",
       "      <td>0</td>\n",
       "      <td>0</td>\n",
       "      <td>0</td>\n",
       "      <td>0</td>\n",
       "      <td>0</td>\n",
       "      <td>0</td>\n",
       "      <td>...</td>\n",
       "      <td>1</td>\n",
       "      <td>0</td>\n",
       "      <td>0</td>\n",
       "      <td>1</td>\n",
       "      <td>0</td>\n",
       "      <td>1</td>\n",
       "      <td>0</td>\n",
       "      <td>1</td>\n",
       "      <td>0</td>\n",
       "      <td>0</td>\n",
       "    </tr>\n",
       "    <tr>\n",
       "      <th>4</th>\n",
       "      <td>272.0</td>\n",
       "      <td>0.93</td>\n",
       "      <td>3</td>\n",
       "      <td>24</td>\n",
       "      <td>0</td>\n",
       "      <td>0</td>\n",
       "      <td>0</td>\n",
       "      <td>0</td>\n",
       "      <td>0</td>\n",
       "      <td>0</td>\n",
       "      <td>...</td>\n",
       "      <td>1</td>\n",
       "      <td>0</td>\n",
       "      <td>0</td>\n",
       "      <td>0</td>\n",
       "      <td>1</td>\n",
       "      <td>1</td>\n",
       "      <td>0</td>\n",
       "      <td>1</td>\n",
       "      <td>0</td>\n",
       "      <td>0</td>\n",
       "    </tr>\n",
       "  </tbody>\n",
       "</table>\n",
       "<p>5 rows × 21 columns</p>\n",
       "</div>"
      ],
      "text/plain": [
       "   rerata_jam_bulanan  tingkat_kepuasan_bekerja  \\\n",
       "0               137.0                      0.38   \n",
       "1               258.0                      0.85   \n",
       "2               257.0                      0.91   \n",
       "3               142.0                      0.42   \n",
       "4               272.0                      0.93   \n",
       "\n",
       "   jumlah_proyek_yang_dikerjakan  lama_di_perusahaan  divisi_IT  divisi_RandD  \\\n",
       "0                              2                  36          0             0   \n",
       "1                              3                  36          0             0   \n",
       "2                              3                  36          0             0   \n",
       "3                              2                  36          0             0   \n",
       "4                              3                  24          0             0   \n",
       "\n",
       "   divisi_accounting  divisi_hr  divisi_management  divisi_marketing  ...  \\\n",
       "0                  0          0                  0                 0  ...   \n",
       "1                  0          0                  0                 0  ...   \n",
       "2                  0          0                  0                 1  ...   \n",
       "3                  0          0                  0                 0  ...   \n",
       "4                  0          0                  0                 0  ...   \n",
       "\n",
       "   divisi_sales  divisi_support  divisi_technical  \\\n",
       "0             0               0                 1   \n",
       "1             1               0                 0   \n",
       "2             0               0                 0   \n",
       "3             1               0                 0   \n",
       "4             1               0                 0   \n",
       "\n",
       "   kecelakaan_kerja_belum pernah  kecelakaan_kerja_pernah  \\\n",
       "0                              1                        0   \n",
       "1                              1                        0   \n",
       "2                              1                        0   \n",
       "3                              1                        0   \n",
       "4                              0                        1   \n",
       "\n",
       "   promosi_5thn_lalu_belum  promosi_5thn_lalu_sudah  tingkat_gaji_rendah  \\\n",
       "0                        1                        0                    1   \n",
       "1                        1                        0                    0   \n",
       "2                        1                        0                    0   \n",
       "3                        1                        0                    1   \n",
       "4                        1                        0                    1   \n",
       "\n",
       "   tingkat_gaji_sedang  tingkat_gaji_tinggi  \n",
       "0                    0                    0  \n",
       "1                    1                    0  \n",
       "2                    1                    0  \n",
       "3                    0                    0  \n",
       "4                    0                    0  \n",
       "\n",
       "[5 rows x 21 columns]"
      ]
     },
     "execution_count": 133,
     "metadata": {},
     "output_type": "execute_result"
    }
   ],
   "source": [
    "df_test_new.head()"
   ]
  },
  {
   "cell_type": "code",
   "execution_count": 134,
   "id": "36274655",
   "metadata": {
    "scrolled": false
   },
   "outputs": [
    {
     "data": {
      "text/plain": [
       "<Figure size 432x288 with 0 Axes>"
      ]
     },
     "execution_count": 134,
     "metadata": {},
     "output_type": "execute_result"
    },
    {
     "data": {
      "image/png": "[encoded data removed]",
      "text/plain": [
       "<Figure size 1800x720 with 2 Axes>"
      ]
     },
     "metadata": {
      "needs_background": "light"
     },
     "output_type": "display_data"
    },
    {
     "data": {
      "text/plain": [
       "<Figure size 432x288 with 0 Axes>"
      ]
     },
     "metadata": {},
     "output_type": "display_data"
    }
   ],
   "source": [
    "msno.matrix(df_test_new)\n",
    "plt.figure()"
   ]
  },
  {
   "cell_type": "code",
   "execution_count": 135,
   "id": "fd27bd6d",
   "metadata": {},
   "outputs": [],
   "source": [
    "X_sub = df_test_new\n",
    "X_sub_col = df_test_new.columns"
   ]
  },
  {
   "cell_type": "code",
   "execution_count": 136,
   "id": "d2ebeea1",
   "metadata": {},
   "outputs": [
    {
     "data": {
      "text/plain": [
       "array([[137.       ,   0.38     ,   2.       , ...,   1.       ,\n",
       "          0.       ,   0.       ],\n",
       "       [258.       ,   0.85     ,   3.       , ...,   0.       ,\n",
       "          1.       ,   0.       ],\n",
       "       [257.       ,   0.91     ,   3.       , ...,   0.       ,\n",
       "          1.       ,   0.       ],\n",
       "       ...,\n",
       "       [191.       ,   0.94     ,   4.       , ...,   0.       ,\n",
       "          0.       ,   1.       ],\n",
       "       [238.9526296,   0.96     ,   5.       , ...,   0.       ,\n",
       "          1.       ,   0.       ],\n",
       "       [268.       ,   0.65     ,   3.       , ...,   1.       ,\n",
       "          0.       ,   0.       ]])"
      ]
     },
     "execution_count": 136,
     "metadata": {},
     "output_type": "execute_result"
    }
   ],
   "source": [
    "imp = IterativeImputer(max_iter = 200, random_state = 0, imputation_order = 'ascending')\n",
    "imp.fit_transform(X)\n",
    "X_sub = imp.transform(X_sub)\n",
    "X_sub"
   ]
  },
  {
   "cell_type": "code",
   "execution_count": 137,
   "id": "2a88e05d",
   "metadata": {
    "scrolled": true
   },
   "outputs": [
    {
     "data": {
      "text/html": [
       "<div>\n",
       "<style scoped>\n",
       "    .dataframe tbody tr th:only-of-type {\n",
       "        vertical-align: middle;\n",
       "    }\n",
       "\n",
       "    .dataframe tbody tr th {\n",
       "        vertical-align: top;\n",
       "    }\n",
       "\n",
       "    .dataframe thead th {\n",
       "        text-align: right;\n",
       "    }\n",
       "</style>\n",
       "<table border=\"1\" class=\"dataframe\">\n",
       "  <thead>\n",
       "    <tr style=\"text-align: right;\">\n",
       "      <th></th>\n",
       "      <th>rerata_jam_bulanan</th>\n",
       "      <th>tingkat_kepuasan_bekerja</th>\n",
       "      <th>jumlah_proyek_yang_dikerjakan</th>\n",
       "      <th>lama_di_perusahaan</th>\n",
       "      <th>divisi_IT</th>\n",
       "      <th>divisi_RandD</th>\n",
       "      <th>divisi_accounting</th>\n",
       "      <th>divisi_hr</th>\n",
       "      <th>divisi_management</th>\n",
       "      <th>divisi_marketing</th>\n",
       "      <th>...</th>\n",
       "      <th>divisi_sales</th>\n",
       "      <th>divisi_support</th>\n",
       "      <th>divisi_technical</th>\n",
       "      <th>kecelakaan_kerja_belum pernah</th>\n",
       "      <th>kecelakaan_kerja_pernah</th>\n",
       "      <th>promosi_5thn_lalu_belum</th>\n",
       "      <th>promosi_5thn_lalu_sudah</th>\n",
       "      <th>tingkat_gaji_rendah</th>\n",
       "      <th>tingkat_gaji_sedang</th>\n",
       "      <th>tingkat_gaji_tinggi</th>\n",
       "    </tr>\n",
       "  </thead>\n",
       "  <tbody>\n",
       "    <tr>\n",
       "      <th>0</th>\n",
       "      <td>137.0</td>\n",
       "      <td>0.38</td>\n",
       "      <td>2.0</td>\n",
       "      <td>36.0</td>\n",
       "      <td>0.0</td>\n",
       "      <td>0.0</td>\n",
       "      <td>0.0</td>\n",
       "      <td>0.0</td>\n",
       "      <td>0.0</td>\n",
       "      <td>0.0</td>\n",
       "      <td>...</td>\n",
       "      <td>0.0</td>\n",
       "      <td>0.0</td>\n",
       "      <td>1.0</td>\n",
       "      <td>1.0</td>\n",
       "      <td>0.0</td>\n",
       "      <td>1.0</td>\n",
       "      <td>0.0</td>\n",
       "      <td>1.0</td>\n",
       "      <td>0.0</td>\n",
       "      <td>0.0</td>\n",
       "    </tr>\n",
       "    <tr>\n",
       "      <th>1</th>\n",
       "      <td>258.0</td>\n",
       "      <td>0.85</td>\n",
       "      <td>3.0</td>\n",
       "      <td>36.0</td>\n",
       "      <td>0.0</td>\n",
       "      <td>0.0</td>\n",
       "      <td>0.0</td>\n",
       "      <td>0.0</td>\n",
       "      <td>0.0</td>\n",
       "      <td>0.0</td>\n",
       "      <td>...</td>\n",
       "      <td>1.0</td>\n",
       "      <td>0.0</td>\n",
       "      <td>0.0</td>\n",
       "      <td>1.0</td>\n",
       "      <td>0.0</td>\n",
       "      <td>1.0</td>\n",
       "      <td>0.0</td>\n",
       "      <td>0.0</td>\n",
       "      <td>1.0</td>\n",
       "      <td>0.0</td>\n",
       "    </tr>\n",
       "    <tr>\n",
       "      <th>2</th>\n",
       "      <td>257.0</td>\n",
       "      <td>0.91</td>\n",
       "      <td>3.0</td>\n",
       "      <td>36.0</td>\n",
       "      <td>0.0</td>\n",
       "      <td>0.0</td>\n",
       "      <td>0.0</td>\n",
       "      <td>0.0</td>\n",
       "      <td>0.0</td>\n",
       "      <td>1.0</td>\n",
       "      <td>...</td>\n",
       "      <td>0.0</td>\n",
       "      <td>0.0</td>\n",
       "      <td>0.0</td>\n",
       "      <td>1.0</td>\n",
       "      <td>0.0</td>\n",
       "      <td>1.0</td>\n",
       "      <td>0.0</td>\n",
       "      <td>0.0</td>\n",
       "      <td>1.0</td>\n",
       "      <td>0.0</td>\n",
       "    </tr>\n",
       "    <tr>\n",
       "      <th>3</th>\n",
       "      <td>142.0</td>\n",
       "      <td>0.42</td>\n",
       "      <td>2.0</td>\n",
       "      <td>36.0</td>\n",
       "      <td>0.0</td>\n",
       "      <td>0.0</td>\n",
       "      <td>0.0</td>\n",
       "      <td>0.0</td>\n",
       "      <td>0.0</td>\n",
       "      <td>0.0</td>\n",
       "      <td>...</td>\n",
       "      <td>1.0</td>\n",
       "      <td>0.0</td>\n",
       "      <td>0.0</td>\n",
       "      <td>1.0</td>\n",
       "      <td>0.0</td>\n",
       "      <td>1.0</td>\n",
       "      <td>0.0</td>\n",
       "      <td>1.0</td>\n",
       "      <td>0.0</td>\n",
       "      <td>0.0</td>\n",
       "    </tr>\n",
       "    <tr>\n",
       "      <th>4</th>\n",
       "      <td>272.0</td>\n",
       "      <td>0.93</td>\n",
       "      <td>3.0</td>\n",
       "      <td>24.0</td>\n",
       "      <td>0.0</td>\n",
       "      <td>0.0</td>\n",
       "      <td>0.0</td>\n",
       "      <td>0.0</td>\n",
       "      <td>0.0</td>\n",
       "      <td>0.0</td>\n",
       "      <td>...</td>\n",
       "      <td>1.0</td>\n",
       "      <td>0.0</td>\n",
       "      <td>0.0</td>\n",
       "      <td>0.0</td>\n",
       "      <td>1.0</td>\n",
       "      <td>1.0</td>\n",
       "      <td>0.0</td>\n",
       "      <td>1.0</td>\n",
       "      <td>0.0</td>\n",
       "      <td>0.0</td>\n",
       "    </tr>\n",
       "  </tbody>\n",
       "</table>\n",
       "<p>5 rows × 21 columns</p>\n",
       "</div>"
      ],
      "text/plain": [
       "   rerata_jam_bulanan  tingkat_kepuasan_bekerja  \\\n",
       "0               137.0                      0.38   \n",
       "1               258.0                      0.85   \n",
       "2               257.0                      0.91   \n",
       "3               142.0                      0.42   \n",
       "4               272.0                      0.93   \n",
       "\n",
       "   jumlah_proyek_yang_dikerjakan  lama_di_perusahaan  divisi_IT  divisi_RandD  \\\n",
       "0                            2.0                36.0        0.0           0.0   \n",
       "1                            3.0                36.0        0.0           0.0   \n",
       "2                            3.0                36.0        0.0           0.0   \n",
       "3                            2.0                36.0        0.0           0.0   \n",
       "4                            3.0                24.0        0.0           0.0   \n",
       "\n",
       "   divisi_accounting  divisi_hr  divisi_management  divisi_marketing  ...  \\\n",
       "0                0.0        0.0                0.0               0.0  ...   \n",
       "1                0.0        0.0                0.0               0.0  ...   \n",
       "2                0.0        0.0                0.0               1.0  ...   \n",
       "3                0.0        0.0                0.0               0.0  ...   \n",
       "4                0.0        0.0                0.0               0.0  ...   \n",
       "\n",
       "   divisi_sales  divisi_support  divisi_technical  \\\n",
       "0           0.0             0.0               1.0   \n",
       "1           1.0             0.0               0.0   \n",
       "2           0.0             0.0               0.0   \n",
       "3           1.0             0.0               0.0   \n",
       "4           1.0             0.0               0.0   \n",
       "\n",
       "   kecelakaan_kerja_belum pernah  kecelakaan_kerja_pernah  \\\n",
       "0                            1.0                      0.0   \n",
       "1                            1.0                      0.0   \n",
       "2                            1.0                      0.0   \n",
       "3                            1.0                      0.0   \n",
       "4                            0.0                      1.0   \n",
       "\n",
       "   promosi_5thn_lalu_belum  promosi_5thn_lalu_sudah  tingkat_gaji_rendah  \\\n",
       "0                      1.0                      0.0                  1.0   \n",
       "1                      1.0                      0.0                  0.0   \n",
       "2                      1.0                      0.0                  0.0   \n",
       "3                      1.0                      0.0                  1.0   \n",
       "4                      1.0                      0.0                  1.0   \n",
       "\n",
       "   tingkat_gaji_sedang  tingkat_gaji_tinggi  \n",
       "0                  0.0                  0.0  \n",
       "1                  1.0                  0.0  \n",
       "2                  1.0                  0.0  \n",
       "3                  0.0                  0.0  \n",
       "4                  0.0                  0.0  \n",
       "\n",
       "[5 rows x 21 columns]"
      ]
     },
     "execution_count": 137,
     "metadata": {},
     "output_type": "execute_result"
    }
   ],
   "source": [
    "X_sub = pd.DataFrame(X_sub, columns = X_sub_col)\n",
    "X_sub.head()"
   ]
  },
  {
   "cell_type": "code",
   "execution_count": 138,
   "id": "9cbb73cf",
   "metadata": {
    "scrolled": false
   },
   "outputs": [
    {
     "data": {
      "text/plain": [
       "<AxesSubplot:>"
      ]
     },
     "execution_count": 138,
     "metadata": {},
     "output_type": "execute_result"
    },
    {
     "data": {
      "image/png": "[encoded data removed]",
      "text/plain": [
       "<Figure size 1800x720 with 2 Axes>"
      ]
     },
     "metadata": {
      "needs_background": "light"
     },
     "output_type": "display_data"
    }
   ],
   "source": [
    "msno.matrix(X_sub)"
   ]
  },
  {
   "cell_type": "code",
   "execution_count": 139,
   "id": "f8923c24",
   "metadata": {},
   "outputs": [],
   "source": [
    "MinMax = MinMaxScaler()\n",
    "\n",
    "MinMax.fit(X)\n",
    "X_sub = MinMax.transform(X_sub)"
   ]
  },
  {
   "cell_type": "code",
   "execution_count": 140,
   "id": "4a203a3f",
   "metadata": {},
   "outputs": [
    {
     "data": {
      "text/html": [
       "<div>\n",
       "<style scoped>\n",
       "    .dataframe tbody tr th:only-of-type {\n",
       "        vertical-align: middle;\n",
       "    }\n",
       "\n",
       "    .dataframe tbody tr th {\n",
       "        vertical-align: top;\n",
       "    }\n",
       "\n",
       "    .dataframe thead th {\n",
       "        text-align: right;\n",
       "    }\n",
       "</style>\n",
       "<table border=\"1\" class=\"dataframe\">\n",
       "  <thead>\n",
       "    <tr style=\"text-align: right;\">\n",
       "      <th></th>\n",
       "      <th>rerata_jam_bulanan</th>\n",
       "      <th>tingkat_kepuasan_bekerja</th>\n",
       "      <th>jumlah_proyek_yang_dikerjakan</th>\n",
       "      <th>lama_di_perusahaan</th>\n",
       "      <th>divisi_IT</th>\n",
       "      <th>divisi_RandD</th>\n",
       "      <th>divisi_accounting</th>\n",
       "      <th>divisi_hr</th>\n",
       "      <th>divisi_management</th>\n",
       "      <th>divisi_marketing</th>\n",
       "      <th>...</th>\n",
       "      <th>divisi_sales</th>\n",
       "      <th>divisi_support</th>\n",
       "      <th>divisi_technical</th>\n",
       "      <th>kecelakaan_kerja_belum pernah</th>\n",
       "      <th>kecelakaan_kerja_pernah</th>\n",
       "      <th>promosi_5thn_lalu_belum</th>\n",
       "      <th>promosi_5thn_lalu_sudah</th>\n",
       "      <th>tingkat_gaji_rendah</th>\n",
       "      <th>tingkat_gaji_sedang</th>\n",
       "      <th>tingkat_gaji_tinggi</th>\n",
       "    </tr>\n",
       "  </thead>\n",
       "  <tbody>\n",
       "    <tr>\n",
       "      <th>0</th>\n",
       "      <td>0.088553</td>\n",
       "      <td>0.318681</td>\n",
       "      <td>0.0</td>\n",
       "      <td>0.125</td>\n",
       "      <td>0.0</td>\n",
       "      <td>0.0</td>\n",
       "      <td>0.0</td>\n",
       "      <td>0.0</td>\n",
       "      <td>0.0</td>\n",
       "      <td>0.0</td>\n",
       "      <td>...</td>\n",
       "      <td>0.0</td>\n",
       "      <td>0.0</td>\n",
       "      <td>1.0</td>\n",
       "      <td>1.0</td>\n",
       "      <td>0.0</td>\n",
       "      <td>1.0</td>\n",
       "      <td>0.0</td>\n",
       "      <td>1.0</td>\n",
       "      <td>0.0</td>\n",
       "      <td>0.0</td>\n",
       "    </tr>\n",
       "    <tr>\n",
       "      <th>1</th>\n",
       "      <td>0.349892</td>\n",
       "      <td>0.835165</td>\n",
       "      <td>0.2</td>\n",
       "      <td>0.125</td>\n",
       "      <td>0.0</td>\n",
       "      <td>0.0</td>\n",
       "      <td>0.0</td>\n",
       "      <td>0.0</td>\n",
       "      <td>0.0</td>\n",
       "      <td>0.0</td>\n",
       "      <td>...</td>\n",
       "      <td>1.0</td>\n",
       "      <td>0.0</td>\n",
       "      <td>0.0</td>\n",
       "      <td>1.0</td>\n",
       "      <td>0.0</td>\n",
       "      <td>1.0</td>\n",
       "      <td>0.0</td>\n",
       "      <td>0.0</td>\n",
       "      <td>1.0</td>\n",
       "      <td>0.0</td>\n",
       "    </tr>\n",
       "    <tr>\n",
       "      <th>2</th>\n",
       "      <td>0.347732</td>\n",
       "      <td>0.901099</td>\n",
       "      <td>0.2</td>\n",
       "      <td>0.125</td>\n",
       "      <td>0.0</td>\n",
       "      <td>0.0</td>\n",
       "      <td>0.0</td>\n",
       "      <td>0.0</td>\n",
       "      <td>0.0</td>\n",
       "      <td>1.0</td>\n",
       "      <td>...</td>\n",
       "      <td>0.0</td>\n",
       "      <td>0.0</td>\n",
       "      <td>0.0</td>\n",
       "      <td>1.0</td>\n",
       "      <td>0.0</td>\n",
       "      <td>1.0</td>\n",
       "      <td>0.0</td>\n",
       "      <td>0.0</td>\n",
       "      <td>1.0</td>\n",
       "      <td>0.0</td>\n",
       "    </tr>\n",
       "    <tr>\n",
       "      <th>3</th>\n",
       "      <td>0.099352</td>\n",
       "      <td>0.362637</td>\n",
       "      <td>0.0</td>\n",
       "      <td>0.125</td>\n",
       "      <td>0.0</td>\n",
       "      <td>0.0</td>\n",
       "      <td>0.0</td>\n",
       "      <td>0.0</td>\n",
       "      <td>0.0</td>\n",
       "      <td>0.0</td>\n",
       "      <td>...</td>\n",
       "      <td>1.0</td>\n",
       "      <td>0.0</td>\n",
       "      <td>0.0</td>\n",
       "      <td>1.0</td>\n",
       "      <td>0.0</td>\n",
       "      <td>1.0</td>\n",
       "      <td>0.0</td>\n",
       "      <td>1.0</td>\n",
       "      <td>0.0</td>\n",
       "      <td>0.0</td>\n",
       "    </tr>\n",
       "    <tr>\n",
       "      <th>4</th>\n",
       "      <td>0.380130</td>\n",
       "      <td>0.923077</td>\n",
       "      <td>0.2</td>\n",
       "      <td>0.000</td>\n",
       "      <td>0.0</td>\n",
       "      <td>0.0</td>\n",
       "      <td>0.0</td>\n",
       "      <td>0.0</td>\n",
       "      <td>0.0</td>\n",
       "      <td>0.0</td>\n",
       "      <td>...</td>\n",
       "      <td>1.0</td>\n",
       "      <td>0.0</td>\n",
       "      <td>0.0</td>\n",
       "      <td>0.0</td>\n",
       "      <td>1.0</td>\n",
       "      <td>1.0</td>\n",
       "      <td>0.0</td>\n",
       "      <td>1.0</td>\n",
       "      <td>0.0</td>\n",
       "      <td>0.0</td>\n",
       "    </tr>\n",
       "  </tbody>\n",
       "</table>\n",
       "<p>5 rows × 21 columns</p>\n",
       "</div>"
      ],
      "text/plain": [
       "   rerata_jam_bulanan  tingkat_kepuasan_bekerja  \\\n",
       "0            0.088553                  0.318681   \n",
       "1            0.349892                  0.835165   \n",
       "2            0.347732                  0.901099   \n",
       "3            0.099352                  0.362637   \n",
       "4            0.380130                  0.923077   \n",
       "\n",
       "   jumlah_proyek_yang_dikerjakan  lama_di_perusahaan  divisi_IT  divisi_RandD  \\\n",
       "0                            0.0               0.125        0.0           0.0   \n",
       "1                            0.2               0.125        0.0           0.0   \n",
       "2                            0.2               0.125        0.0           0.0   \n",
       "3                            0.0               0.125        0.0           0.0   \n",
       "4                            0.2               0.000        0.0           0.0   \n",
       "\n",
       "   divisi_accounting  divisi_hr  divisi_management  divisi_marketing  ...  \\\n",
       "0                0.0        0.0                0.0               0.0  ...   \n",
       "1                0.0        0.0                0.0               0.0  ...   \n",
       "2                0.0        0.0                0.0               1.0  ...   \n",
       "3                0.0        0.0                0.0               0.0  ...   \n",
       "4                0.0        0.0                0.0               0.0  ...   \n",
       "\n",
       "   divisi_sales  divisi_support  divisi_technical  \\\n",
       "0           0.0             0.0               1.0   \n",
       "1           1.0             0.0               0.0   \n",
       "2           0.0             0.0               0.0   \n",
       "3           1.0             0.0               0.0   \n",
       "4           1.0             0.0               0.0   \n",
       "\n",
       "   kecelakaan_kerja_belum pernah  kecelakaan_kerja_pernah  \\\n",
       "0                            1.0                      0.0   \n",
       "1                            1.0                      0.0   \n",
       "2                            1.0                      0.0   \n",
       "3                            1.0                      0.0   \n",
       "4                            0.0                      1.0   \n",
       "\n",
       "   promosi_5thn_lalu_belum  promosi_5thn_lalu_sudah  tingkat_gaji_rendah  \\\n",
       "0                      1.0                      0.0                  1.0   \n",
       "1                      1.0                      0.0                  0.0   \n",
       "2                      1.0                      0.0                  0.0   \n",
       "3                      1.0                      0.0                  1.0   \n",
       "4                      1.0                      0.0                  1.0   \n",
       "\n",
       "   tingkat_gaji_sedang  tingkat_gaji_tinggi  \n",
       "0                  0.0                  0.0  \n",
       "1                  1.0                  0.0  \n",
       "2                  1.0                  0.0  \n",
       "3                  0.0                  0.0  \n",
       "4                  0.0                  0.0  \n",
       "\n",
       "[5 rows x 21 columns]"
      ]
     },
     "execution_count": 140,
     "metadata": {},
     "output_type": "execute_result"
    }
   ],
   "source": [
    "X_sub = pd.DataFrame(X_sub, columns = X_sub_col)\n",
    "X_sub.head()"
   ]
  },
  {
   "cell_type": "code",
   "execution_count": 141,
   "id": "a7537c7f",
   "metadata": {},
   "outputs": [],
   "source": [
    "model = RandomForestClassifier(n_estimators = 200,\n",
    "                               min_samples_split = 2,\n",
    "                               min_samples_leaf = 1,\n",
    "                               max_features = 'log2',\n",
    "                               max_depth = 60,\n",
    "                               criterion = 'entropy')\n",
    "\n",
    "model.fit(X_scaled, y)\n",
    "y_sub = model.predict(X_sub)"
   ]
  },
  {
   "cell_type": "code",
   "execution_count": 142,
   "id": "1e4bd2ae",
   "metadata": {},
   "outputs": [
    {
     "data": {
      "text/plain": [
       "resign\n",
       "0         3820\n",
       "1         1130\n",
       "dtype: int64"
      ]
     },
     "execution_count": 142,
     "metadata": {},
     "output_type": "execute_result"
    }
   ],
   "source": [
    "y_sub = pd.DataFrame({'resign' : y_sub})\n",
    "y_sub.value_counts()"
   ]
  },
  {
   "cell_type": "code",
   "execution_count": 143,
   "id": "7cb8d3fd",
   "metadata": {},
   "outputs": [],
   "source": [
    "submission = pd.concat([df_test['employee_id'], y_sub], axis = 1)"
   ]
  },
  {
   "cell_type": "code",
   "execution_count": 145,
   "id": "bbcacf16",
   "metadata": {},
   "outputs": [],
   "source": [
    "submission.to_csv('submission.csv')"
   ]
  },
  {
   "cell_type": "markdown",
   "id": "7bbd86fa",
   "metadata": {},
   "source": [
    "# 8. Conclusion"
   ]
  },
  {
   "cell_type": "markdown",
   "id": "7a18c7b2",
   "metadata": {},
   "source": [
    "1. Model yang dipilih adalah RandomForestClassifier dengan parameter \n",
    "   n_estimators : 200,\n",
    "   min_samples_split: 2,\n",
    "   min_samples_leaf : 1,\n",
    "   max_features : 'log2',\n",
    "   max_depth : 60,\n",
    "   criterion : 'entropy'\n",
    "\n",
    "2. Recall, atau yang biasa disebut False Negative Rate merupakan nilai perbandingan antara total true positive dengan true label. Sedangkan precision, atau yang biasa disebut False Positive Rate merupakan nilai perbandingan antara total true positive dengan true prediction. Dari model tersebut didapatkan nilai recall sebesar 0.989 dan precision sebesar 0.981\n",
    "\n",
    "3. Dalam kasus ini memprediksi seorang karyawan tidak akan resign padahal sebenarnya resign memiliki dampak negatif yang lebih besar daripada kasus sebaliknya. Oleh karena itu kami mengusahakan nilai recall sebesar mungkin agar nilai False Negative menjadi minimum. Hal ini menjadi alasan mengapa pemilihan model didasarkan pada nilai recallnya\n",
    "\n",
    "4. Untuk features kategorikal yang sangat berpengaruh adalah 'tingkat gaji' dan 'kecelakaan kerla'. Oleh karena itu, disarankan untuk mempertimbangkan kenaikan gaji bagi karyawan yang memikili kinerja baik dan diprediksi akan resign. Juga dilakukan pemeriksaan setiap alat pekerjaan dan dilakukan induksi secara berkala agar meminimalisir kemungkinan kecelakaan kerja yang terjadi\n",
    "\n",
    "5. Untuk features numerikal yang sangat berpengaruh adalah 'tingkat kepuasan bekerja'. Dengan demikian, disarankan untuk menyebarkan kuesioner terkait saran, masukan, dan evaluasi yang perlu dilakukan oleh perusahaan agar perusahaan dapat memperbaiki kinerjanya dan meningkatkan kepuasan bekerja karyawan"
   ]
  },
  {
   "cell_type": "code",
   "execution_count": null,
   "id": "4ca59dd3",
   "metadata": {},
   "outputs": [],
   "source": []
  }
 ],
 "metadata": {
  "kernelspec": {
   "display_name": "Python 3",
   "language": "python",
   "name": "python3"
  },
  "language_info": {
   "codemirror_mode": {
    "name": "ipython",
    "version": 3
   },
   "file_extension": ".py",
   "mimetype": "text/x-python",
   "name": "python",
   "nbconvert_exporter": "python",
   "pygments_lexer": "ipython3",
   "version": "3.8.8"
  }
 },
 "nbformat": 4,
 "nbformat_minor": 5
}
